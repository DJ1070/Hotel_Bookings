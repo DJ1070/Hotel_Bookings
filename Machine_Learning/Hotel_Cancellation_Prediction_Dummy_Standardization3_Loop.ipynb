{
  "nbformat": 4,
  "nbformat_minor": 0,
  "metadata": {
    "colab": {
      "name": "Hotel_Cancellation_Prediction-Dummy_Standardization.ipynb",
      "provenance": [],
      "collapsed_sections": []
    },
    "kernelspec": {
      "name": "python385jvsc74a57bd0b3ba2566441a7c06988d0923437866b63cedc61552a5af99d1f4fb67d367b25f",
      "display_name": "Python 3.8.5 64-bit ('base': conda)"
    },
    "language_info": {
      "codemirror_mode": {
        "name": "ipython",
        "version": 3
      },
      "file_extension": ".py",
      "mimetype": "text/x-python",
      "name": "python",
      "nbconvert_exporter": "python",
      "pygments_lexer": "ipython3",
      "version": "3.8.5"
    }
  },
  "cells": [
    {
      "cell_type": "code",
      "metadata": {
        "id": "lopbkSLejQEh"
      },
      "source": [
        "import pandas as pd\n",
        "import numpy as np\n",
        "import datetime\n",
        "import matplotlib.pyplot as plt\n",
        "import seaborn as sns\n",
        "from sklearn.preprocessing import LabelEncoder\n",
        "from sklearn.model_selection import train_test_split\n",
        "from sklearn.preprocessing import StandardScaler\n",
        "from sklearn import tree\n",
        "from sklearn.linear_model import LogisticRegression\n",
        "from sklearn.neighbors import KNeighborsClassifier\n",
        "from sklearn.ensemble import RandomForestClassifier, ExtraTreesClassifier\n",
        "from sklearn.metrics import accuracy_score, confusion_matrix, classification_report, cohen_kappa_score\n",
        "from sklearn.model_selection import cross_val_score"
      ],
      "execution_count": 1,
      "outputs": []
    },
    {
      "cell_type": "code",
      "metadata": {
        "id": "4Vd554RJjQEx"
      },
      "source": [
        "# Dataset from https://www.kaggle.com/jessemostipak/hotel-booking-demand\n",
        "\n",
        "df = pd.read_csv('./Data/hotel_bookings.csv')"
      ],
      "execution_count": 2,
      "outputs": []
    },
    {
      "cell_type": "code",
      "metadata": {
        "colab": {
          "base_uri": "https://localhost:8080/",
          "height": 617
        },
        "id": "QwC73aeijQE3",
        "outputId": "c1ee7f1e-3f92-47d6-ccc9-59d6c3861e5d"
      },
      "source": [
        "df"
      ],
      "execution_count": 3,
      "outputs": [
        {
          "output_type": "execute_result",
          "data": {
            "text/plain": [
              "               hotel  is_canceled  lead_time  arrival_date_year  \\\n",
              "0       Resort Hotel            0        342               2015   \n",
              "1       Resort Hotel            0        737               2015   \n",
              "2       Resort Hotel            0          7               2015   \n",
              "3       Resort Hotel            0         13               2015   \n",
              "4       Resort Hotel            0         14               2015   \n",
              "...              ...          ...        ...                ...   \n",
              "119385    City Hotel            0         23               2017   \n",
              "119386    City Hotel            0        102               2017   \n",
              "119387    City Hotel            0         34               2017   \n",
              "119388    City Hotel            0        109               2017   \n",
              "119389    City Hotel            0        205               2017   \n",
              "\n",
              "       arrival_date_month  arrival_date_week_number  \\\n",
              "0                    July                        27   \n",
              "1                    July                        27   \n",
              "2                    July                        27   \n",
              "3                    July                        27   \n",
              "4                    July                        27   \n",
              "...                   ...                       ...   \n",
              "119385             August                        35   \n",
              "119386             August                        35   \n",
              "119387             August                        35   \n",
              "119388             August                        35   \n",
              "119389             August                        35   \n",
              "\n",
              "        arrival_date_day_of_month  stays_in_weekend_nights  \\\n",
              "0                               1                        0   \n",
              "1                               1                        0   \n",
              "2                               1                        0   \n",
              "3                               1                        0   \n",
              "4                               1                        0   \n",
              "...                           ...                      ...   \n",
              "119385                         30                        2   \n",
              "119386                         31                        2   \n",
              "119387                         31                        2   \n",
              "119388                         31                        2   \n",
              "119389                         29                        2   \n",
              "\n",
              "        stays_in_week_nights  adults  ...  deposit_type  agent company  \\\n",
              "0                          0       2  ...    No Deposit    NaN     NaN   \n",
              "1                          0       2  ...    No Deposit    NaN     NaN   \n",
              "2                          1       1  ...    No Deposit    NaN     NaN   \n",
              "3                          1       1  ...    No Deposit  304.0     NaN   \n",
              "4                          2       2  ...    No Deposit  240.0     NaN   \n",
              "...                      ...     ...  ...           ...    ...     ...   \n",
              "119385                     5       2  ...    No Deposit  394.0     NaN   \n",
              "119386                     5       3  ...    No Deposit    9.0     NaN   \n",
              "119387                     5       2  ...    No Deposit    9.0     NaN   \n",
              "119388                     5       2  ...    No Deposit   89.0     NaN   \n",
              "119389                     7       2  ...    No Deposit    9.0     NaN   \n",
              "\n",
              "       days_in_waiting_list customer_type     adr  \\\n",
              "0                         0     Transient    0.00   \n",
              "1                         0     Transient    0.00   \n",
              "2                         0     Transient   75.00   \n",
              "3                         0     Transient   75.00   \n",
              "4                         0     Transient   98.00   \n",
              "...                     ...           ...     ...   \n",
              "119385                    0     Transient   96.14   \n",
              "119386                    0     Transient  225.43   \n",
              "119387                    0     Transient  157.71   \n",
              "119388                    0     Transient  104.40   \n",
              "119389                    0     Transient  151.20   \n",
              "\n",
              "        required_car_parking_spaces  total_of_special_requests  \\\n",
              "0                                 0                          0   \n",
              "1                                 0                          0   \n",
              "2                                 0                          0   \n",
              "3                                 0                          0   \n",
              "4                                 0                          1   \n",
              "...                             ...                        ...   \n",
              "119385                            0                          0   \n",
              "119386                            0                          2   \n",
              "119387                            0                          4   \n",
              "119388                            0                          0   \n",
              "119389                            0                          2   \n",
              "\n",
              "        reservation_status reservation_status_date  \n",
              "0                Check-Out              2015-07-01  \n",
              "1                Check-Out              2015-07-01  \n",
              "2                Check-Out              2015-07-02  \n",
              "3                Check-Out              2015-07-02  \n",
              "4                Check-Out              2015-07-03  \n",
              "...                    ...                     ...  \n",
              "119385           Check-Out              2017-09-06  \n",
              "119386           Check-Out              2017-09-07  \n",
              "119387           Check-Out              2017-09-07  \n",
              "119388           Check-Out              2017-09-07  \n",
              "119389           Check-Out              2017-09-07  \n",
              "\n",
              "[119390 rows x 32 columns]"
            ],
            "text/html": "<div>\n<style scoped>\n    .dataframe tbody tr th:only-of-type {\n        vertical-align: middle;\n    }\n\n    .dataframe tbody tr th {\n        vertical-align: top;\n    }\n\n    .dataframe thead th {\n        text-align: right;\n    }\n</style>\n<table border=\"1\" class=\"dataframe\">\n  <thead>\n    <tr style=\"text-align: right;\">\n      <th></th>\n      <th>hotel</th>\n      <th>is_canceled</th>\n      <th>lead_time</th>\n      <th>arrival_date_year</th>\n      <th>arrival_date_month</th>\n      <th>arrival_date_week_number</th>\n      <th>arrival_date_day_of_month</th>\n      <th>stays_in_weekend_nights</th>\n      <th>stays_in_week_nights</th>\n      <th>adults</th>\n      <th>...</th>\n      <th>deposit_type</th>\n      <th>agent</th>\n      <th>company</th>\n      <th>days_in_waiting_list</th>\n      <th>customer_type</th>\n      <th>adr</th>\n      <th>required_car_parking_spaces</th>\n      <th>total_of_special_requests</th>\n      <th>reservation_status</th>\n      <th>reservation_status_date</th>\n    </tr>\n  </thead>\n  <tbody>\n    <tr>\n      <th>0</th>\n      <td>Resort Hotel</td>\n      <td>0</td>\n      <td>342</td>\n      <td>2015</td>\n      <td>July</td>\n      <td>27</td>\n      <td>1</td>\n      <td>0</td>\n      <td>0</td>\n      <td>2</td>\n      <td>...</td>\n      <td>No Deposit</td>\n      <td>NaN</td>\n      <td>NaN</td>\n      <td>0</td>\n      <td>Transient</td>\n      <td>0.00</td>\n      <td>0</td>\n      <td>0</td>\n      <td>Check-Out</td>\n      <td>2015-07-01</td>\n    </tr>\n    <tr>\n      <th>1</th>\n      <td>Resort Hotel</td>\n      <td>0</td>\n      <td>737</td>\n      <td>2015</td>\n      <td>July</td>\n      <td>27</td>\n      <td>1</td>\n      <td>0</td>\n      <td>0</td>\n      <td>2</td>\n      <td>...</td>\n      <td>No Deposit</td>\n      <td>NaN</td>\n      <td>NaN</td>\n      <td>0</td>\n      <td>Transient</td>\n      <td>0.00</td>\n      <td>0</td>\n      <td>0</td>\n      <td>Check-Out</td>\n      <td>2015-07-01</td>\n    </tr>\n    <tr>\n      <th>2</th>\n      <td>Resort Hotel</td>\n      <td>0</td>\n      <td>7</td>\n      <td>2015</td>\n      <td>July</td>\n      <td>27</td>\n      <td>1</td>\n      <td>0</td>\n      <td>1</td>\n      <td>1</td>\n      <td>...</td>\n      <td>No Deposit</td>\n      <td>NaN</td>\n      <td>NaN</td>\n      <td>0</td>\n      <td>Transient</td>\n      <td>75.00</td>\n      <td>0</td>\n      <td>0</td>\n      <td>Check-Out</td>\n      <td>2015-07-02</td>\n    </tr>\n    <tr>\n      <th>3</th>\n      <td>Resort Hotel</td>\n      <td>0</td>\n      <td>13</td>\n      <td>2015</td>\n      <td>July</td>\n      <td>27</td>\n      <td>1</td>\n      <td>0</td>\n      <td>1</td>\n      <td>1</td>\n      <td>...</td>\n      <td>No Deposit</td>\n      <td>304.0</td>\n      <td>NaN</td>\n      <td>0</td>\n      <td>Transient</td>\n      <td>75.00</td>\n      <td>0</td>\n      <td>0</td>\n      <td>Check-Out</td>\n      <td>2015-07-02</td>\n    </tr>\n    <tr>\n      <th>4</th>\n      <td>Resort Hotel</td>\n      <td>0</td>\n      <td>14</td>\n      <td>2015</td>\n      <td>July</td>\n      <td>27</td>\n      <td>1</td>\n      <td>0</td>\n      <td>2</td>\n      <td>2</td>\n      <td>...</td>\n      <td>No Deposit</td>\n      <td>240.0</td>\n      <td>NaN</td>\n      <td>0</td>\n      <td>Transient</td>\n      <td>98.00</td>\n      <td>0</td>\n      <td>1</td>\n      <td>Check-Out</td>\n      <td>2015-07-03</td>\n    </tr>\n    <tr>\n      <th>...</th>\n      <td>...</td>\n      <td>...</td>\n      <td>...</td>\n      <td>...</td>\n      <td>...</td>\n      <td>...</td>\n      <td>...</td>\n      <td>...</td>\n      <td>...</td>\n      <td>...</td>\n      <td>...</td>\n      <td>...</td>\n      <td>...</td>\n      <td>...</td>\n      <td>...</td>\n      <td>...</td>\n      <td>...</td>\n      <td>...</td>\n      <td>...</td>\n      <td>...</td>\n      <td>...</td>\n    </tr>\n    <tr>\n      <th>119385</th>\n      <td>City Hotel</td>\n      <td>0</td>\n      <td>23</td>\n      <td>2017</td>\n      <td>August</td>\n      <td>35</td>\n      <td>30</td>\n      <td>2</td>\n      <td>5</td>\n      <td>2</td>\n      <td>...</td>\n      <td>No Deposit</td>\n      <td>394.0</td>\n      <td>NaN</td>\n      <td>0</td>\n      <td>Transient</td>\n      <td>96.14</td>\n      <td>0</td>\n      <td>0</td>\n      <td>Check-Out</td>\n      <td>2017-09-06</td>\n    </tr>\n    <tr>\n      <th>119386</th>\n      <td>City Hotel</td>\n      <td>0</td>\n      <td>102</td>\n      <td>2017</td>\n      <td>August</td>\n      <td>35</td>\n      <td>31</td>\n      <td>2</td>\n      <td>5</td>\n      <td>3</td>\n      <td>...</td>\n      <td>No Deposit</td>\n      <td>9.0</td>\n      <td>NaN</td>\n      <td>0</td>\n      <td>Transient</td>\n      <td>225.43</td>\n      <td>0</td>\n      <td>2</td>\n      <td>Check-Out</td>\n      <td>2017-09-07</td>\n    </tr>\n    <tr>\n      <th>119387</th>\n      <td>City Hotel</td>\n      <td>0</td>\n      <td>34</td>\n      <td>2017</td>\n      <td>August</td>\n      <td>35</td>\n      <td>31</td>\n      <td>2</td>\n      <td>5</td>\n      <td>2</td>\n      <td>...</td>\n      <td>No Deposit</td>\n      <td>9.0</td>\n      <td>NaN</td>\n      <td>0</td>\n      <td>Transient</td>\n      <td>157.71</td>\n      <td>0</td>\n      <td>4</td>\n      <td>Check-Out</td>\n      <td>2017-09-07</td>\n    </tr>\n    <tr>\n      <th>119388</th>\n      <td>City Hotel</td>\n      <td>0</td>\n      <td>109</td>\n      <td>2017</td>\n      <td>August</td>\n      <td>35</td>\n      <td>31</td>\n      <td>2</td>\n      <td>5</td>\n      <td>2</td>\n      <td>...</td>\n      <td>No Deposit</td>\n      <td>89.0</td>\n      <td>NaN</td>\n      <td>0</td>\n      <td>Transient</td>\n      <td>104.40</td>\n      <td>0</td>\n      <td>0</td>\n      <td>Check-Out</td>\n      <td>2017-09-07</td>\n    </tr>\n    <tr>\n      <th>119389</th>\n      <td>City Hotel</td>\n      <td>0</td>\n      <td>205</td>\n      <td>2017</td>\n      <td>August</td>\n      <td>35</td>\n      <td>29</td>\n      <td>2</td>\n      <td>7</td>\n      <td>2</td>\n      <td>...</td>\n      <td>No Deposit</td>\n      <td>9.0</td>\n      <td>NaN</td>\n      <td>0</td>\n      <td>Transient</td>\n      <td>151.20</td>\n      <td>0</td>\n      <td>2</td>\n      <td>Check-Out</td>\n      <td>2017-09-07</td>\n    </tr>\n  </tbody>\n</table>\n<p>119390 rows × 32 columns</p>\n</div>"
          },
          "metadata": {},
          "execution_count": 3
        }
      ]
    },
    {
      "cell_type": "code",
      "metadata": {
        "colab": {
          "base_uri": "https://localhost:8080/"
        },
        "id": "da0XOVWqoACF",
        "outputId": "5747237e-a27b-4814-f499-7123ea795891"
      },
      "source": [
        "df.dtypes"
      ],
      "execution_count": 4,
      "outputs": [
        {
          "output_type": "execute_result",
          "data": {
            "text/plain": [
              "hotel                              object\n",
              "is_canceled                         int64\n",
              "lead_time                           int64\n",
              "arrival_date_year                   int64\n",
              "arrival_date_month                 object\n",
              "arrival_date_week_number            int64\n",
              "arrival_date_day_of_month           int64\n",
              "stays_in_weekend_nights             int64\n",
              "stays_in_week_nights                int64\n",
              "adults                              int64\n",
              "children                          float64\n",
              "babies                              int64\n",
              "meal                               object\n",
              "country                            object\n",
              "market_segment                     object\n",
              "distribution_channel               object\n",
              "is_repeated_guest                   int64\n",
              "previous_cancellations              int64\n",
              "previous_bookings_not_canceled      int64\n",
              "reserved_room_type                 object\n",
              "assigned_room_type                 object\n",
              "booking_changes                     int64\n",
              "deposit_type                       object\n",
              "agent                             float64\n",
              "company                           float64\n",
              "days_in_waiting_list                int64\n",
              "customer_type                      object\n",
              "adr                               float64\n",
              "required_car_parking_spaces         int64\n",
              "total_of_special_requests           int64\n",
              "reservation_status                 object\n",
              "reservation_status_date            object\n",
              "dtype: object"
            ]
          },
          "metadata": {},
          "execution_count": 4
        }
      ]
    },
    {
      "cell_type": "code",
      "metadata": {
        "id": "z-ZlqG9_jQFA"
      },
      "source": [
        "df.children = df.children.fillna(0)\n",
        "df.country = df.country.fillna(0)"
      ],
      "execution_count": 5,
      "outputs": []
    },
    {
      "cell_type": "code",
      "metadata": {
        "id": "kMNvfTE-oDEU"
      },
      "source": [
        "# Dropping redundand and unneccessary information\n",
        "\n",
        "df = df.drop(['arrival_date_year', 'arrival_date_month', 'company', 'reservation_status', 'reservation_status_date'], axis = 1)"
      ],
      "execution_count": 6,
      "outputs": []
    },
    {
      "cell_type": "code",
      "execution_count": 7,
      "metadata": {},
      "outputs": [],
      "source": [
        "# Defining categories so these values are not mistaken as numeric information \n",
        "\n",
        "new_categories = ['hotel', 'arrival_date_week_number', 'arrival_date_day_of_month', 'meal', 'country', 'market_segment', 'distribution_channel', 'is_repeated_guest', 'reserved_room_type', 'assigned_room_type', 'deposit_type', 'agent', 'customer_type']\n",
        "\n",
        "for col in new_categories:\n",
        "    df[col] = df[col].astype('category')"
      ]
    },
    {
      "cell_type": "code",
      "execution_count": 8,
      "metadata": {},
      "outputs": [
        {
          "output_type": "execute_result",
          "data": {
            "text/plain": [
              "hotel                             category\n",
              "is_canceled                          int64\n",
              "lead_time                            int64\n",
              "arrival_date_week_number          category\n",
              "arrival_date_day_of_month         category\n",
              "stays_in_weekend_nights              int64\n",
              "stays_in_week_nights                 int64\n",
              "adults                               int64\n",
              "children                           float64\n",
              "babies                               int64\n",
              "meal                              category\n",
              "country                           category\n",
              "market_segment                    category\n",
              "distribution_channel              category\n",
              "is_repeated_guest                 category\n",
              "previous_cancellations               int64\n",
              "previous_bookings_not_canceled       int64\n",
              "reserved_room_type                category\n",
              "assigned_room_type                category\n",
              "booking_changes                      int64\n",
              "deposit_type                      category\n",
              "agent                             category\n",
              "days_in_waiting_list                 int64\n",
              "customer_type                     category\n",
              "adr                                float64\n",
              "required_car_parking_spaces          int64\n",
              "total_of_special_requests            int64\n",
              "dtype: object"
            ]
          },
          "metadata": {},
          "execution_count": 8
        }
      ],
      "source": [
        "df.dtypes"
      ]
    },
    {
      "cell_type": "code",
      "metadata": {
        "id": "YUgslc9KjQE-"
      },
      "source": [
        "df = pd.get_dummies(df)"
      ],
      "execution_count": 9,
      "outputs": []
    },
    {
      "cell_type": "code",
      "metadata": {
        "colab": {
          "base_uri": "https://localhost:8080/"
        },
        "id": "F9DzlT_QjQE_",
        "outputId": "bf548354-1fb5-426c-b2af-bf7ac1665e08"
      },
      "source": [
        "df.info()"
      ],
      "execution_count": 10,
      "outputs": [
        {
          "output_type": "stream",
          "name": "stdout",
          "text": [
            "<class 'pandas.core.frame.DataFrame'>\nRangeIndex: 119390 entries, 0 to 119389\nColumns: 660 entries, is_canceled to customer_type_Transient-Party\ndtypes: float64(2), int64(12), uint8(646)\nmemory usage: 86.3 MB\n"
          ]
        }
      ]
    },
    {
      "source": [
        "# Creating df_compact with only relevant columns for prediction of cancellation"
      ],
      "cell_type": "code",
      "metadata": {
        "id": "b5lLVsXcAHRi"
      },
      "execution_count": 11,
      "outputs": []
    },
    {
      "cell_type": "code",
      "metadata": {
        "id": "NuIHmykmAjXw"
      },
      "source": [
        "# As seen in \"Hotel_Cancellation_Feature_Correlations.ipynb\" only \"country_PRT\" plays a role in cancellation rate and thus is kept here.\n",
        "# HOW CAN I GROUP ALL OTHER COUNTRIES ???\n",
        "# ----------------------------------------\n",
        "\n",
        "selected_cols = ('market_segment', 'distribution_channel', 'deposit_type', 'hotel')\n",
        "filter_cols = [col for col in df if col.startswith(selected_cols)]\n",
        "df_compact = df[['is_canceled', 'lead_time', 'previous_cancellations', 'required_car_parking_spaces', 'total_of_special_requests', 'country_PRT']] \n",
        "df2 = df[filter_cols]\n",
        "df_compact = pd.concat([df_compact, df2], axis = 1)"
      ],
      "execution_count": 12,
      "outputs": []
    },
    {
      "cell_type": "code",
      "metadata": {
        "colab": {
          "base_uri": "https://localhost:8080/",
          "height": 745
        },
        "id": "uVfK_GhDHPhc",
        "outputId": "4a486552-aa14-46d0-8e26-0b9643ecca54"
      },
      "source": [
        "# fig, ax = plt.subplots(figsize=(20, 15)) \n",
        "# sns.heatmap(df_compact.corr(), annot=True, ax = ax)"
      ],
      "execution_count": 13,
      "outputs": []
    },
    {
      "source": [
        "# Cancellation Rate"
      ],
      "cell_type": "code",
      "metadata": {
        "id": "RvjC2fHuUwL8"
      },
      "execution_count": 14,
      "outputs": []
    },
    {
      "source": [
        "# Cancellation prediction "
      ],
      "cell_type": "code",
      "metadata": {
        "id": "BcIjKx97Mg07"
      },
      "execution_count": 15,
      "outputs": []
    },
    {
      "cell_type": "code",
      "execution_count": 21,
      "metadata": {},
      "outputs": [
        {
          "output_type": "execute_result",
          "data": {
            "text/plain": [
              "      Val                                           Features  Accuracy_RF  \\\n",
              "0  0.0001  [lead_time, previous_cancellations, required_c...     0.829885   \n",
              "1  0.0002  [lead_time, previous_cancellations, required_c...     0.830723   \n",
              "2  0.0003  [lead_time, previous_cancellations, required_c...     0.831100   \n",
              "3  0.0004  [lead_time, previous_cancellations, required_c...     0.830346   \n",
              "4  0.0005  [lead_time, previous_cancellations, required_c...     0.830848   \n",
              "5  0.0006  [lead_time, previous_cancellations, required_c...     0.829885   \n",
              "6  0.0007  [lead_time, previous_cancellations, required_c...     0.830220   \n",
              "7  0.0008  [lead_time, previous_cancellations, required_c...     0.829843   \n",
              "8  0.0009  [lead_time, previous_cancellations, required_c...     0.830472   \n",
              "9  0.0010  [lead_time, previous_cancellations, required_c...     0.830472   \n",
              "\n",
              "   Kappa_RF  Accuracy_ETC  Kappa_ETC  \n",
              "0  0.628785      0.830011   0.627353  \n",
              "1  0.630561      0.830011   0.627371  \n",
              "2  0.631756      0.829927   0.627134  \n",
              "3  0.629660      0.829760   0.626802  \n",
              "4  0.630740      0.829969   0.627182  \n",
              "5  0.629099      0.829718   0.626719  \n",
              "6  0.629795      0.829843   0.626968  \n",
              "7  0.628807      0.829927   0.627187  \n",
              "8  0.630082      0.829801   0.626832  \n",
              "9  0.630047      0.829843   0.626915  "
            ],
            "text/html": "<div>\n<style scoped>\n    .dataframe tbody tr th:only-of-type {\n        vertical-align: middle;\n    }\n\n    .dataframe tbody tr th {\n        vertical-align: top;\n    }\n\n    .dataframe thead th {\n        text-align: right;\n    }\n</style>\n<table border=\"1\" class=\"dataframe\">\n  <thead>\n    <tr style=\"text-align: right;\">\n      <th></th>\n      <th>Val</th>\n      <th>Features</th>\n      <th>Accuracy_RF</th>\n      <th>Kappa_RF</th>\n      <th>Accuracy_ETC</th>\n      <th>Kappa_ETC</th>\n    </tr>\n  </thead>\n  <tbody>\n    <tr>\n      <th>0</th>\n      <td>0.0001</td>\n      <td>[lead_time, previous_cancellations, required_c...</td>\n      <td>0.829885</td>\n      <td>0.628785</td>\n      <td>0.830011</td>\n      <td>0.627353</td>\n    </tr>\n    <tr>\n      <th>1</th>\n      <td>0.0002</td>\n      <td>[lead_time, previous_cancellations, required_c...</td>\n      <td>0.830723</td>\n      <td>0.630561</td>\n      <td>0.830011</td>\n      <td>0.627371</td>\n    </tr>\n    <tr>\n      <th>2</th>\n      <td>0.0003</td>\n      <td>[lead_time, previous_cancellations, required_c...</td>\n      <td>0.831100</td>\n      <td>0.631756</td>\n      <td>0.829927</td>\n      <td>0.627134</td>\n    </tr>\n    <tr>\n      <th>3</th>\n      <td>0.0004</td>\n      <td>[lead_time, previous_cancellations, required_c...</td>\n      <td>0.830346</td>\n      <td>0.629660</td>\n      <td>0.829760</td>\n      <td>0.626802</td>\n    </tr>\n    <tr>\n      <th>4</th>\n      <td>0.0005</td>\n      <td>[lead_time, previous_cancellations, required_c...</td>\n      <td>0.830848</td>\n      <td>0.630740</td>\n      <td>0.829969</td>\n      <td>0.627182</td>\n    </tr>\n    <tr>\n      <th>5</th>\n      <td>0.0006</td>\n      <td>[lead_time, previous_cancellations, required_c...</td>\n      <td>0.829885</td>\n      <td>0.629099</td>\n      <td>0.829718</td>\n      <td>0.626719</td>\n    </tr>\n    <tr>\n      <th>6</th>\n      <td>0.0007</td>\n      <td>[lead_time, previous_cancellations, required_c...</td>\n      <td>0.830220</td>\n      <td>0.629795</td>\n      <td>0.829843</td>\n      <td>0.626968</td>\n    </tr>\n    <tr>\n      <th>7</th>\n      <td>0.0008</td>\n      <td>[lead_time, previous_cancellations, required_c...</td>\n      <td>0.829843</td>\n      <td>0.628807</td>\n      <td>0.829927</td>\n      <td>0.627187</td>\n    </tr>\n    <tr>\n      <th>8</th>\n      <td>0.0009</td>\n      <td>[lead_time, previous_cancellations, required_c...</td>\n      <td>0.830472</td>\n      <td>0.630082</td>\n      <td>0.829801</td>\n      <td>0.626832</td>\n    </tr>\n    <tr>\n      <th>9</th>\n      <td>0.0010</td>\n      <td>[lead_time, previous_cancellations, required_c...</td>\n      <td>0.830472</td>\n      <td>0.630047</td>\n      <td>0.829843</td>\n      <td>0.626915</td>\n    </tr>\n  </tbody>\n</table>\n</div>"
          },
          "metadata": {},
          "execution_count": 21
        }
      ],
      "source": [
        "vals = [0.0001, 0.0002, 0.0003, 0.0004, 0.0005, 0.0006, 0.0007, 0.0008, 0.0009, 0.001 ]\n",
        "y = df_compact['is_canceled']\n",
        "\n",
        "# Preparing empty lists for next loop\n",
        "val_list, features_list, accuracy_rf_list, kappa_rf_list, accuracy_etc_list, kappa_etc_list = [], [], [], [], [], []\n",
        "\n",
        "# Loop for automatic prediction using the best found methods for this dataset: Random Forest, Extra Trees\n",
        "for val in vals:\n",
        "    features = abs(df_compact.corr()['is_canceled'][abs(df_compact.corr()['is_canceled']) > val]).drop(['is_canceled']).index.tolist()\n",
        "\n",
        "    # Storing values of val and features per loop\n",
        "    val_list.append(val)\n",
        "    features_list.append(features)\n",
        "\n",
        "    # X = df.drop(columns = ['is_canceled', 'reservation_status', 'date'])\n",
        "    X = df_compact\n",
        "    X = X[features]\n",
        "\n",
        "    X_scaled = StandardScaler().fit_transform(X)\n",
        "    X_train, X_test, y_train, y_test = train_test_split(X_scaled, y, test_size = 0.2, random_state = 6)\n",
        "    \n",
        "    # Random Forest\n",
        "    model_rf = RandomForestClassifier(n_estimators=800).fit(X_train, y_train)\n",
        "    model_rf_prediction = model_rf.predict(X_test)\n",
        "    accuracy_rf = accuracy_score(y_test, model_rf_prediction)\n",
        "    kappa_rf = cohen_kappa_score(y_test, model_rf_prediction)\n",
        "\n",
        "    # Storing the results of Random Forest\n",
        "    accuracy_rf_list.append(accuracy_rf)\n",
        "    kappa_rf_list.append(kappa_rf)\n",
        "    \n",
        "    # Extra Trees Classifier\n",
        "    model_etc = ExtraTreesClassifier().fit(X_train, y_train)\n",
        "    model_etc_prediction = model_etc.predict(X_test)\n",
        "    accuracy_etc = accuracy_score(y_test, model_etc_prediction)\n",
        "    kappa_etc = cohen_kappa_score(y_test, model_etc_prediction)\n",
        "\n",
        "    # Storing the results of Extra Trees Classifier\n",
        "    accuracy_etc_list.append(accuracy_etc)\n",
        "    kappa_etc_list.append(kappa_etc)\n",
        "\n",
        "df_loop = pd.DataFrame(list(zip(val_list, features_list, accuracy_rf_list, kappa_rf_list, accuracy_etc_list, kappa_etc_list)), columns =['Val', 'Features', 'Accuracy_RF', 'Kappa_RF', 'Accuracy_ETC', 'Kappa_ETC'])\n",
        "df_loop"
      ]
    },
    {
      "cell_type": "code",
      "execution_count": 22,
      "metadata": {},
      "outputs": [],
      "source": [
        "df_loop.to_csv('./Data/Hotel_Cancellation_Prediction_Dummy_Standardization3_Loop_Result2.csv')"
      ]
    },
    {
      "cell_type": "code",
      "execution_count": 20,
      "metadata": {},
      "outputs": [
        {
          "output_type": "execute_result",
          "data": {
            "text/plain": [
              "(119390, 660)"
            ]
          },
          "metadata": {},
          "execution_count": 20
        }
      ],
      "source": [
        "df.shape"
      ]
    }
  ]
}