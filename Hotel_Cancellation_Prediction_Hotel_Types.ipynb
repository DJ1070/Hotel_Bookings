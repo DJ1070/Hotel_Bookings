{
 "metadata": {
  "language_info": {
   "codemirror_mode": {
    "name": "ipython",
    "version": 3
   },
   "file_extension": ".py",
   "mimetype": "text/x-python",
   "name": "python",
   "nbconvert_exporter": "python",
   "pygments_lexer": "ipython3",
   "version": "3.8.5"
  },
  "orig_nbformat": 2,
  "kernelspec": {
   "name": "python385jvsc74a57bd0b3ba2566441a7c06988d0923437866b63cedc61552a5af99d1f4fb67d367b25f",
   "display_name": "Python 3.8.5 64-bit ('base': conda)"
  }
 },
 "nbformat": 4,
 "nbformat_minor": 2,
 "cells": [
  {
   "cell_type": "code",
   "execution_count": null,
   "metadata": {},
   "outputs": [],
   "source": [
    "import pandas as pd\n",
    "import numpy as np\n",
    "import datetime\n",
    "import matplotlib.pyplot as plt\n",
    "import seaborn as sns\n",
    "from sklearn.preprocessing import LabelEncoder\n",
    "from sklearn.model_selection import train_test_split\n",
    "from sklearn.preprocessing import StandardScaler\n",
    "from sklearn import tree\n",
    "from sklearn.linear_model import LogisticRegression\n",
    "from sklearn.neighbors import KNeighborsClassifier\n",
    "from sklearn.ensemble import RandomForestClassifier, AdaBoostClassifier, GradientBoostingClassifier, ExtraTreesClassifier, VotingClassifier\n",
    "from xgboost import XGBClassifier\n",
    "from catboost import CatBoostClassifier\n",
    "from lightgbm import LGBMClassifier\n",
    "from sklearn.metrics import accuracy_score, confusion_matrix, classification_report, cohen_kappa_score\n",
    "from sklearn.model_selection import cross_val_score"
   ]
  },
  {
   "cell_type": "code",
   "execution_count": null,
   "metadata": {},
   "outputs": [],
   "source": [
    "# Dataset from https://www.kaggle.com/jessemostipak/hotel-booking-demand\n",
    "\n",
    "df = pd.read_csv('./Data/hotel_bookings.csv')"
   ]
  },
  {
   "cell_type": "code",
   "execution_count": null,
   "metadata": {},
   "outputs": [],
   "source": [
    "df"
   ]
  },
  {
   "cell_type": "code",
   "execution_count": null,
   "metadata": {},
   "outputs": [],
   "source": [
    "df.info()"
   ]
  },
  {
   "cell_type": "code",
   "execution_count": null,
   "metadata": {},
   "outputs": [],
   "source": [
    "# Converting string values into ints"
   ]
  },
  {
   "cell_type": "code",
   "execution_count": null,
   "metadata": {},
   "outputs": [],
   "source": [
    "# Converting hotel types from str to int\n",
    "\n",
    "df.hotel = df.hotel.map({'City Hotel':0, 'Resort Hotel':1})\n",
    "df.hotel.unique()"
   ]
  },
  {
   "cell_type": "code",
   "execution_count": null,
   "metadata": {},
   "outputs": [],
   "source": [
    "# Converting month from str to int\n",
    "\n",
    "df.arrival_date_month = df.arrival_date_month.map({'January':1, 'February':2, 'March':3, 'April':4, 'May':5, 'June':6, 'July':7, 'August':8, 'September': 9, 'October':10, 'November':11, 'December':12})"
   ]
  },
  {
   "cell_type": "code",
   "execution_count": null,
   "metadata": {},
   "outputs": [],
   "source": [
    "# Creating a timeseries date and extraction of weekdays\n",
    "\n",
    "df['date'] = pd.to_datetime(df['arrival_date_year'].map(str) + '-' + df['arrival_date_month'].map(str) + '-' + df['arrival_date_day_of_month'].map(str))"
   ]
  },
  {
   "cell_type": "code",
   "execution_count": null,
   "metadata": {},
   "outputs": [],
   "source": [
    "df['weekday'] = df['date'].dt.weekday"
   ]
  },
  {
   "cell_type": "code",
   "execution_count": null,
   "metadata": {},
   "outputs": [],
   "source": [
    "df.meal.unique()"
   ]
  },
  {
   "cell_type": "code",
   "execution_count": null,
   "metadata": {},
   "outputs": [],
   "source": [
    "# Converting meal from str to int\n",
    "df.meal = df.meal.map({'Undefined':0, 'BB':1, 'HB':2, 'FB':3, 'SC':4})\n",
    "\n",
    "df.meal.unique()"
   ]
  },
  {
   "cell_type": "code",
   "execution_count": null,
   "metadata": {},
   "outputs": [],
   "source": [
    "# Converting country from str to int using LabelEncoder\n",
    "\n",
    "df.country = df.country.fillna('O')     # Filling Null values for the LabelEncoder\n",
    "le = LabelEncoder()\n",
    "df['country'] = le.fit_transform(df['country'])\n",
    "df.country.unique()"
   ]
  },
  {
   "cell_type": "code",
   "execution_count": null,
   "metadata": {},
   "outputs": [],
   "source": [
    "df.market_segment.unique()"
   ]
  },
  {
   "cell_type": "code",
   "execution_count": null,
   "metadata": {},
   "outputs": [],
   "source": [
    "# Converting market_segment from str to int\n",
    "\n",
    "le = LabelEncoder()\n",
    "df['market_segment'] = le.fit_transform(df['market_segment'])\n",
    "df.market_segment.unique()"
   ]
  },
  {
   "cell_type": "code",
   "execution_count": null,
   "metadata": {},
   "outputs": [],
   "source": [
    "df.distribution_channel.unique()"
   ]
  },
  {
   "cell_type": "code",
   "execution_count": null,
   "metadata": {},
   "outputs": [],
   "source": [
    "# Converting distribution_channel from str to int\n",
    "\n",
    "df.distribution_channel = df.distribution_channel.map({'Undefined':0, 'Direct':1, 'Corporate':2, 'TA/TO':3, 'GDS':4})\n",
    "df.distribution_channel.unique()"
   ]
  },
  {
   "cell_type": "code",
   "execution_count": null,
   "metadata": {},
   "outputs": [],
   "source": [
    "df.reserved_room_type.unique()"
   ]
  },
  {
   "cell_type": "code",
   "execution_count": null,
   "metadata": {},
   "outputs": [],
   "source": [
    "# Converting reserved_room_type from str to int\n",
    "\n",
    "le = LabelEncoder()\n",
    "df['reserved_room_type'] = le.fit_transform(df['reserved_room_type'])\n",
    "df.reserved_room_type.unique()"
   ]
  },
  {
   "cell_type": "code",
   "execution_count": null,
   "metadata": {},
   "outputs": [],
   "source": [
    "df.assigned_room_type.unique()"
   ]
  },
  {
   "cell_type": "code",
   "execution_count": null,
   "metadata": {},
   "outputs": [],
   "source": [
    "# Converting assigned_room_type from str to int\n",
    "\n",
    "le = LabelEncoder()\n",
    "df['assigned_room_type'] = le.fit_transform(df['assigned_room_type'])\n",
    "df.assigned_room_type.unique()"
   ]
  },
  {
   "cell_type": "code",
   "execution_count": null,
   "metadata": {},
   "outputs": [],
   "source": [
    "df.deposit_type.unique()"
   ]
  },
  {
   "cell_type": "code",
   "execution_count": null,
   "metadata": {},
   "outputs": [],
   "source": [
    "# Converting deposit_type from str to int\n",
    "\n",
    "df.deposit_type = df.deposit_type.map({'No Deposit':0, 'Refundable':1, 'Non Refund':2})\n",
    "df.deposit_type.unique()"
   ]
  },
  {
   "cell_type": "code",
   "execution_count": null,
   "metadata": {},
   "outputs": [],
   "source": [
    "df.customer_type.unique()"
   ]
  },
  {
   "cell_type": "code",
   "execution_count": null,
   "metadata": {},
   "outputs": [],
   "source": [
    "# Converting customer_type from str to int\n",
    "\n",
    "df.customer_type = df.customer_type.map({'Transient':1, 'Transient-Party':2, 'Contract':3, 'Group':4})\n",
    "df.customer_type.unique()"
   ]
  },
  {
   "cell_type": "code",
   "execution_count": null,
   "metadata": {},
   "outputs": [],
   "source": [
    "df.reservation_status.unique()"
   ]
  },
  {
   "cell_type": "code",
   "execution_count": null,
   "metadata": {},
   "outputs": [],
   "source": [
    "# Converting reservation_status from str to int\n",
    "\n",
    "df.reservation_status = df.reservation_status.map({'No-Show':0, 'Check-Out':1, 'Canceled':2})\n",
    "df.reservation_status.unique()"
   ]
  },
  {
   "cell_type": "code",
   "execution_count": null,
   "metadata": {},
   "outputs": [],
   "source": [
    "df.required_car_parking_spaces.unique()"
   ]
  },
  {
   "cell_type": "code",
   "execution_count": null,
   "metadata": {},
   "outputs": [],
   "source": [
    "# Removing a few outliers - made the results worse!\n",
    "# df = df[~(df.required_car_parking_spaces > 3)]  # 2 bookings had a requirement of 8 car parking spaces\n",
    "# df = df[~(df.adr == df.adr.max())]              # 1 booking had a daily rate of 5400"
   ]
  },
  {
   "cell_type": "code",
   "execution_count": null,
   "metadata": {},
   "outputs": [],
   "source": [
    "# Filling missing values with 0\n",
    "\n",
    "df.children = df.children.fillna(0)\n",
    "df.children = df.children.astype(int)\n",
    "\n",
    "df.agent = df.agent.fillna(0)\n",
    "df.agent = df.agent.astype(int)\n",
    "\n",
    "df.company = df.company.fillna(0)\n",
    "df.company = df.company.astype(int)\n",
    "\n",
    "df.adr = df.adr.astype(int)"
   ]
  },
  {
   "cell_type": "code",
   "execution_count": null,
   "metadata": {},
   "outputs": [],
   "source": [
    "# Adults, babies and children cant be 0 at same time, so these rows have to be dropped\n",
    "\n",
    "ghost_filter = (df.children == 0) & (df.adults == 0) & (df.babies == 0)\n",
    "df = df[~ghost_filter]"
   ]
  },
  {
   "cell_type": "code",
   "execution_count": null,
   "metadata": {},
   "outputs": [],
   "source": [
    "correlation = df.corr()['is_canceled'].abs().sort_values(ascending = False)\n",
    "correlation"
   ]
  },
  {
   "cell_type": "code",
   "execution_count": null,
   "metadata": {},
   "outputs": [],
   "source": [
    "# Separation of the 2 hotel types for a more detailed observation\n",
    "\n",
    "df_city_hotel = df[df.hotel == 0]\n",
    "df_resort_hotel = df[df.hotel == 1]"
   ]
  },
  {
   "cell_type": "code",
   "execution_count": null,
   "metadata": {},
   "outputs": [],
   "source": [
    "fig, ax = plt.subplots(figsize=(24, 16)) \n",
    "sns.heatmap(df_city_hotel.corr(), annot=True, ax = ax)"
   ]
  },
  {
   "cell_type": "code",
   "execution_count": null,
   "metadata": {},
   "outputs": [],
   "source": [
    "fig, ax = plt.subplots(figsize=(24, 16)) \n",
    "sns.heatmap(df_resort_hotel.corr(), annot=True, ax = ax)\n"
   ]
  },
  {
   "cell_type": "code",
   "execution_count": null,
   "metadata": {},
   "outputs": [],
   "source": [
    "# CANCELLATION PREDICTION - ALL DATA BUT WITHOUT RESERVATION_STATUS"
   ]
  },
  {
   "cell_type": "code",
   "execution_count": null,
   "metadata": {},
   "outputs": [],
   "source": [
    "# Fitting for City Hotels\n",
    "\n",
    "# X = df_city_hotel.drop(['is_canceled', 'reservation_status', 'reservation_status_date', 'date'], axis = 1)\n",
    "# y = df_city_hotel['is_canceled']\n",
    "# y = np.array(y)"
   ]
  },
  {
   "cell_type": "code",
   "execution_count": null,
   "metadata": {},
   "outputs": [],
   "source": [
    "# Fitting for Resort Hotels\n",
    "\n",
    "X = df_resort_hotel.drop(['is_canceled', 'reservation_status', 'reservation_status_date', 'date'], axis = 1)\n",
    "y = df_resort_hotel['is_canceled']\n",
    "y = np.array(y)"
   ]
  },
  {
   "cell_type": "code",
   "execution_count": null,
   "metadata": {},
   "outputs": [],
   "source": [
    "# Scaling\n",
    "\n",
    "X_scaled = StandardScaler().fit_transform(X)"
   ]
  },
  {
   "cell_type": "code",
   "execution_count": null,
   "metadata": {},
   "outputs": [],
   "source": [
    "X_train, X_test, y_train, y_test = train_test_split(X_scaled, y, test_size = 0.2, random_state = 3)"
   ]
  },
  {
   "cell_type": "code",
   "execution_count": null,
   "metadata": {},
   "outputs": [],
   "source": [
    "# Logistic Regression\n",
    "model_lr = LogisticRegression().fit(X_train, y_train)\n",
    "model_lr_prediction = model_lr.predict(X_test)\n",
    "accuracy_lr = accuracy_score(y_test, model_lr_prediction)\n",
    "\n",
    "conf_lr = confusion_matrix(y_test, model_lr_prediction)\n",
    "clf_report_lr = classification_report(y_test, model_lr_prediction)\n",
    "\n",
    "print(f\"Accuracy Score of Ada Boost Classifier is : {accuracy_lr}\")\n",
    "print(f\"Confusion Matrix : \\n{conf_lr}\")\n",
    "print(f\"Classification Report : \\n{clf_report_lr}\")"
   ]
  },
  {
   "cell_type": "code",
   "execution_count": null,
   "metadata": {},
   "outputs": [],
   "source": [
    "kappa_lr = cohen_kappa_score(y_test, model_lr_prediction)\n",
    "kappa_lr"
   ]
  },
  {
   "cell_type": "code",
   "execution_count": null,
   "metadata": {},
   "outputs": [],
   "source": [
    "#Feature Importance\n",
    "\n",
    "# Get importance\n",
    "importance = model_lr.coef_[0]\n",
    "\n",
    "# Summarize feature importance\n",
    "for i,v in enumerate(importance):\n",
    "\tprint('Feature: %0d, Score: %.5f' % (i,v))\n",
    " \n",
    "# Plot feature importance\n",
    "plt.bar([x for x in range(len(importance))], importance)\n",
    "plt.show()"
   ]
  },
  {
   "cell_type": "code",
   "execution_count": null,
   "metadata": {},
   "outputs": [],
   "source": [
    "# Decision Tree\n",
    "model_dt = tree.DecisionTreeClassifier().fit(X_train, y_train)\n",
    "model_dt_prediction = model_dt.predict(X_test)\n",
    "accuracy_dt = accuracy_score(y_test, model_dt_prediction)\n",
    "\n",
    "conf_dt = confusion_matrix(y_test, model_dt_prediction)\n",
    "clf_report_dt = classification_report(y_test, model_dt_prediction)\n",
    "\n",
    "print(f\"Accuracy Score of Ada Boost Classifier is : {accuracy_dt}\")\n",
    "print(f\"Confusion Matrix : \\n{conf_dt}\")\n",
    "print(f\"Classification Report : \\n{clf_report_dt}\")"
   ]
  },
  {
   "cell_type": "code",
   "execution_count": null,
   "metadata": {},
   "outputs": [],
   "source": [
    "kappa_dt = cohen_kappa_score(y_test, model_dt_prediction)\n",
    "kappa_dt"
   ]
  },
  {
   "cell_type": "code",
   "execution_count": null,
   "metadata": {},
   "outputs": [],
   "source": [
    "#Feature Importance\n",
    "\n",
    "# get importance\n",
    "\n",
    "importance = model_dt.feature_importances_\n",
    "\n",
    "# summarize feature importance\n",
    "\n",
    "for i,v in enumerate(importance):\n",
    "\tprint('Feature: %0d, Score: %.5f' % (i,v))\n",
    "\n",
    "# plot feature importance\n",
    "\n",
    "plt.bar([x for x in range(len(importance))], importance)\n",
    "plt.show()"
   ]
  },
  {
   "cell_type": "code",
   "execution_count": null,
   "metadata": {},
   "outputs": [],
   "source": [
    "# K-Fold DecisionTree\n",
    "model_kfdt = cross_val_score(tree.DecisionTreeClassifier(max_depth =8), X, y, cv=200)   # Best result with max_depth =5), X, y, cv=25\n",
    "print('Maximum: ', model_kfdt.max())\n",
    "print('Mean: ', model_kfdt.mean())\n",
    "\n",
    "model_kfdt = pd.Series(model_kfdt)\n",
    "model_kfdt.plot()"
   ]
  },
  {
   "cell_type": "code",
   "execution_count": null,
   "metadata": {},
   "outputs": [],
   "source": [
    "# KNN\n",
    "model_knn = KNeighborsClassifier(n_neighbors = 5, metric = 'minkowski', p = 2).fit(X_train, y_train)\n",
    "model_knn_prediction = model_knn.predict(X_test)\n",
    "accuracy_knn = accuracy_score(y_test, model_knn_prediction)\n",
    "\n",
    "conf_knn = confusion_matrix(y_test, model_knn_prediction)\n",
    "clf_report_knn = classification_report(y_test, model_knn_prediction)\n",
    "\n",
    "print(f\"Accuracy Score of Ada Boost Classifier is : {accuracy_knn}\")\n",
    "print(f\"Confusion Matrix : \\n{conf_knn}\")\n",
    "print(f\"Classification Report : \\n{clf_report_knn}\")"
   ]
  },
  {
   "cell_type": "code",
   "execution_count": null,
   "metadata": {},
   "outputs": [],
   "source": [
    "kappa_knn = cohen_kappa_score(y_test, model_knn_prediction)\n",
    "kappa_knn"
   ]
  },
  {
   "cell_type": "code",
   "execution_count": 108,
   "metadata": {},
   "outputs": [
    {
     "output_type": "execute_result",
     "data": {
      "text/plain": [
       "0.917852684144819"
      ]
     },
     "metadata": {},
     "execution_count": 108
    }
   ],
   "source": [
    "# Random Forest\n",
    "model_rf = RandomForestClassifier(n_estimators=800).fit(X_train, y_train)\n",
    "model_rf_prediction = model_rf.predict(X_test)\n",
    "version_rf = accuracy_score(y_test, model_rf_prediction)\n",
    "version_rf"
   ]
  },
  {
   "cell_type": "code",
   "execution_count": 109,
   "metadata": {},
   "outputs": [
    {
     "output_type": "execute_result",
     "data": {
      "text/plain": [
       "0.7905718428404711"
      ]
     },
     "metadata": {},
     "execution_count": 109
    }
   ],
   "source": [
    "kappa_rf = cohen_kappa_score(y_test, model_rf_prediction)\n",
    "kappa_rf"
   ]
  },
  {
   "cell_type": "code",
   "execution_count": 110,
   "metadata": {},
   "outputs": [
    {
     "output_type": "stream",
     "name": "stdout",
     "text": [
      "Feature: 0, Score: 0.00000\nFeature: 1, Score: 0.13194\nFeature: 2, Score: 0.03134\nFeature: 3, Score: 0.02764\nFeature: 4, Score: 0.04672\nFeature: 5, Score: 0.04777\nFeature: 6, Score: 0.02242\nFeature: 7, Score: 0.03645\nFeature: 8, Score: 0.01144\nFeature: 9, Score: 0.00803\nFeature: 10, Score: 0.00154\nFeature: 11, Score: 0.01433\nFeature: 12, Score: 0.12343\nFeature: 13, Score: 0.04350\nFeature: 14, Score: 0.01114\nFeature: 15, Score: 0.00300\nFeature: 16, Score: 0.02291\nFeature: 17, Score: 0.00574\nFeature: 18, Score: 0.02117\nFeature: 19, Score: 0.02852\nFeature: 20, Score: 0.02003\nFeature: 21, Score: 0.05652\nFeature: 22, Score: 0.05762\nFeature: 23, Score: 0.00574\nFeature: 24, Score: 0.00067\nFeature: 25, Score: 0.02301\nFeature: 26, Score: 0.07328\nFeature: 27, Score: 0.05328\nFeature: 28, Score: 0.04115\nFeature: 29, Score: 0.02967\n"
     ]
    },
    {
     "output_type": "display_data",
     "data": {
      "text/plain": "<Figure size 432x288 with 1 Axes>",
      "image/svg+xml": "<?xml version=\"1.0\" encoding=\"utf-8\" standalone=\"no\"?>\r\n<!DOCTYPE svg PUBLIC \"-//W3C//DTD SVG 1.1//EN\"\r\n  \"http://www.w3.org/Graphics/SVG/1.1/DTD/svg11.dtd\">\r\n<!-- Created with matplotlib (https://matplotlib.org/) -->\r\n<svg height=\"248.518125pt\" version=\"1.1\" viewBox=\"0 0 378.465625 248.518125\" width=\"378.465625pt\" xmlns=\"http://www.w3.org/2000/svg\" xmlns:xlink=\"http://www.w3.org/1999/xlink\">\r\n <metadata>\r\n  <rdf:RDF xmlns:cc=\"http://creativecommons.org/ns#\" xmlns:dc=\"http://purl.org/dc/elements/1.1/\" xmlns:rdf=\"http://www.w3.org/1999/02/22-rdf-syntax-ns#\">\r\n   <cc:Work>\r\n    <dc:type rdf:resource=\"http://purl.org/dc/dcmitype/StillImage\"/>\r\n    <dc:date>2021-06-02T22:43:45.449514</dc:date>\r\n    <dc:format>image/svg+xml</dc:format>\r\n    <dc:creator>\r\n     <cc:Agent>\r\n      <dc:title>Matplotlib v3.3.2, https://matplotlib.org/</dc:title>\r\n     </cc:Agent>\r\n    </dc:creator>\r\n   </cc:Work>\r\n  </rdf:RDF>\r\n </metadata>\r\n <defs>\r\n  <style type=\"text/css\">*{stroke-linecap:butt;stroke-linejoin:round;}</style>\r\n </defs>\r\n <g id=\"figure_1\">\r\n  <g id=\"patch_1\">\r\n   <path d=\"M 0 248.518125 \r\nL 378.465625 248.518125 \r\nL 378.465625 0 \r\nL 0 0 \r\nz\r\n\" style=\"fill:none;\"/>\r\n  </g>\r\n  <g id=\"axes_1\">\r\n   <g id=\"patch_2\">\r\n    <path d=\"M 36.465625 224.64 \r\nL 371.265625 224.64 \r\nL 371.265625 7.2 \r\nL 36.465625 7.2 \r\nz\r\n\" style=\"fill:#ffffff;\"/>\r\n   </g>\r\n   <g id=\"patch_3\">\r\n    <path clip-path=\"url(#pe2d89b20ac)\" d=\"M 51.683807 224.64 \r\nL 59.854643 224.64 \r\nL 59.854643 224.64 \r\nL 51.683807 224.64 \r\nz\r\n\" style=\"fill:#1f77b4;\"/>\r\n   </g>\r\n   <g id=\"patch_4\">\r\n    <path clip-path=\"url(#pe2d89b20ac)\" d=\"M 61.897352 224.64 \r\nL 70.068188 224.64 \r\nL 70.068188 17.554286 \r\nL 61.897352 17.554286 \r\nz\r\n\" style=\"fill:#1f77b4;\"/>\r\n   </g>\r\n   <g id=\"patch_5\">\r\n    <path clip-path=\"url(#pe2d89b20ac)\" d=\"M 72.110897 224.64 \r\nL 80.281732 224.64 \r\nL 80.281732 175.442807 \r\nL 72.110897 175.442807 \r\nz\r\n\" style=\"fill:#1f77b4;\"/>\r\n   </g>\r\n   <g id=\"patch_6\">\r\n    <path clip-path=\"url(#pe2d89b20ac)\" d=\"M 82.324441 224.64 \r\nL 90.495277 224.64 \r\nL 90.495277 181.260266 \r\nL 82.324441 181.260266 \r\nz\r\n\" style=\"fill:#1f77b4;\"/>\r\n   </g>\r\n   <g id=\"patch_7\">\r\n    <path clip-path=\"url(#pe2d89b20ac)\" d=\"M 92.537986 224.64 \r\nL 100.708822 224.64 \r\nL 100.708822 151.317584 \r\nL 92.537986 151.317584 \r\nz\r\n\" style=\"fill:#1f77b4;\"/>\r\n   </g>\r\n   <g id=\"patch_8\">\r\n    <path clip-path=\"url(#pe2d89b20ac)\" d=\"M 102.751531 224.64 \r\nL 110.922367 224.64 \r\nL 110.922367 149.670102 \r\nL 102.751531 149.670102 \r\nz\r\n\" style=\"fill:#1f77b4;\"/>\r\n   </g>\r\n   <g id=\"patch_9\">\r\n    <path clip-path=\"url(#pe2d89b20ac)\" d=\"M 112.965076 224.64 \r\nL 121.135912 224.64 \r\nL 121.135912 189.457181 \r\nL 112.965076 189.457181 \r\nz\r\n\" style=\"fill:#1f77b4;\"/>\r\n   </g>\r\n   <g id=\"patch_10\">\r\n    <path clip-path=\"url(#pe2d89b20ac)\" d=\"M 123.178621 224.64 \r\nL 131.349457 224.64 \r\nL 131.349457 167.425196 \r\nL 123.178621 167.425196 \r\nz\r\n\" style=\"fill:#1f77b4;\"/>\r\n   </g>\r\n   <g id=\"patch_11\">\r\n    <path clip-path=\"url(#pe2d89b20ac)\" d=\"M 133.392166 224.64 \r\nL 141.563001 224.64 \r\nL 141.563001 206.684098 \r\nL 133.392166 206.684098 \r\nz\r\n\" style=\"fill:#1f77b4;\"/>\r\n   </g>\r\n   <g id=\"patch_12\">\r\n    <path clip-path=\"url(#pe2d89b20ac)\" d=\"M 143.60571 224.64 \r\nL 151.776546 224.64 \r\nL 151.776546 212.042648 \r\nL 143.60571 212.042648 \r\nz\r\n\" style=\"fill:#1f77b4;\"/>\r\n   </g>\r\n   <g id=\"patch_13\">\r\n    <path clip-path=\"url(#pe2d89b20ac)\" d=\"M 153.819255 224.64 \r\nL 161.990091 224.64 \r\nL 161.990091 222.226185 \r\nL 153.819255 222.226185 \r\nz\r\n\" style=\"fill:#1f77b4;\"/>\r\n   </g>\r\n   <g id=\"patch_14\">\r\n    <path clip-path=\"url(#pe2d89b20ac)\" d=\"M 164.0328 224.64 \r\nL 172.203636 224.64 \r\nL 172.203636 202.141632 \r\nL 164.0328 202.141632 \r\nz\r\n\" style=\"fill:#1f77b4;\"/>\r\n   </g>\r\n   <g id=\"patch_15\">\r\n    <path clip-path=\"url(#pe2d89b20ac)\" d=\"M 174.246345 224.64 \r\nL 182.417181 224.64 \r\nL 182.417181 30.906998 \r\nL 174.246345 30.906998 \r\nz\r\n\" style=\"fill:#1f77b4;\"/>\r\n   </g>\r\n   <g id=\"patch_16\">\r\n    <path clip-path=\"url(#pe2d89b20ac)\" d=\"M 184.45989 224.64 \r\nL 192.630726 224.64 \r\nL 192.630726 156.361214 \r\nL 184.45989 156.361214 \r\nz\r\n\" style=\"fill:#1f77b4;\"/>\r\n   </g>\r\n   <g id=\"patch_17\">\r\n    <path clip-path=\"url(#pe2d89b20ac)\" d=\"M 194.673435 224.64 \r\nL 202.844271 224.64 \r\nL 202.844271 207.153812 \r\nL 194.673435 207.153812 \r\nz\r\n\" style=\"fill:#1f77b4;\"/>\r\n   </g>\r\n   <g id=\"patch_18\">\r\n    <path clip-path=\"url(#pe2d89b20ac)\" d=\"M 204.886979 224.64 \r\nL 213.057815 224.64 \r\nL 213.057815 219.931705 \r\nL 204.886979 219.931705 \r\nz\r\n\" style=\"fill:#1f77b4;\"/>\r\n   </g>\r\n   <g id=\"patch_19\">\r\n    <path clip-path=\"url(#pe2d89b20ac)\" d=\"M 215.100524 224.64 \r\nL 223.27136 224.64 \r\nL 223.27136 188.67668 \r\nL 215.100524 188.67668 \r\nz\r\n\" style=\"fill:#1f77b4;\"/>\r\n   </g>\r\n   <g id=\"patch_20\">\r\n    <path clip-path=\"url(#pe2d89b20ac)\" d=\"M 225.314069 224.64 \r\nL 233.484905 224.64 \r\nL 233.484905 215.635718 \r\nL 225.314069 215.635718 \r\nz\r\n\" style=\"fill:#1f77b4;\"/>\r\n   </g>\r\n   <g id=\"patch_21\">\r\n    <path clip-path=\"url(#pe2d89b20ac)\" d=\"M 235.527614 224.64 \r\nL 243.69845 224.64 \r\nL 243.69845 191.410768 \r\nL 235.527614 191.410768 \r\nz\r\n\" style=\"fill:#1f77b4;\"/>\r\n   </g>\r\n   <g id=\"patch_22\">\r\n    <path clip-path=\"url(#pe2d89b20ac)\" d=\"M 245.741159 224.64 \r\nL 253.911995 224.64 \r\nL 253.911995 179.874612 \r\nL 245.741159 179.874612 \r\nz\r\n\" style=\"fill:#1f77b4;\"/>\r\n   </g>\r\n   <g id=\"patch_23\">\r\n    <path clip-path=\"url(#pe2d89b20ac)\" d=\"M 255.954704 224.64 \r\nL 264.12554 224.64 \r\nL 264.12554 193.195145 \r\nL 255.954704 193.195145 \r\nz\r\n\" style=\"fill:#1f77b4;\"/>\r\n   </g>\r\n   <g id=\"patch_24\">\r\n    <path clip-path=\"url(#pe2d89b20ac)\" d=\"M 266.168249 224.64 \r\nL 274.339084 224.64 \r\nL 274.339084 135.926067 \r\nL 266.168249 135.926067 \r\nz\r\n\" style=\"fill:#1f77b4;\"/>\r\n   </g>\r\n   <g id=\"patch_25\">\r\n    <path clip-path=\"url(#pe2d89b20ac)\" d=\"M 276.381793 224.64 \r\nL 284.552629 224.64 \r\nL 284.552629 134.208185 \r\nL 276.381793 134.208185 \r\nz\r\n\" style=\"fill:#1f77b4;\"/>\r\n   </g>\r\n   <g id=\"patch_26\">\r\n    <path clip-path=\"url(#pe2d89b20ac)\" d=\"M 286.595338 224.64 \r\nL 294.766174 224.64 \r\nL 294.766174 215.631029 \r\nL 286.595338 215.631029 \r\nz\r\n\" style=\"fill:#1f77b4;\"/>\r\n   </g>\r\n   <g id=\"patch_27\">\r\n    <path clip-path=\"url(#pe2d89b20ac)\" d=\"M 296.808883 224.64 \r\nL 304.979719 224.64 \r\nL 304.979719 223.590561 \r\nL 296.808883 223.590561 \r\nz\r\n\" style=\"fill:#1f77b4;\"/>\r\n   </g>\r\n   <g id=\"patch_28\">\r\n    <path clip-path=\"url(#pe2d89b20ac)\" d=\"M 307.022428 224.64 \r\nL 315.193264 224.64 \r\nL 315.193264 188.523811 \r\nL 307.022428 188.523811 \r\nz\r\n\" style=\"fill:#1f77b4;\"/>\r\n   </g>\r\n   <g id=\"patch_29\">\r\n    <path clip-path=\"url(#pe2d89b20ac)\" d=\"M 317.235973 224.64 \r\nL 325.406809 224.64 \r\nL 325.406809 109.6245 \r\nL 317.235973 109.6245 \r\nz\r\n\" style=\"fill:#1f77b4;\"/>\r\n   </g>\r\n   <g id=\"patch_30\">\r\n    <path clip-path=\"url(#pe2d89b20ac)\" d=\"M 327.449518 224.64 \r\nL 335.620353 224.64 \r\nL 335.620353 141.008285 \r\nL 327.449518 141.008285 \r\nz\r\n\" style=\"fill:#1f77b4;\"/>\r\n   </g>\r\n   <g id=\"patch_31\">\r\n    <path clip-path=\"url(#pe2d89b20ac)\" d=\"M 337.663062 224.64 \r\nL 345.833898 224.64 \r\nL 345.833898 160.0609 \r\nL 337.663062 160.0609 \r\nz\r\n\" style=\"fill:#1f77b4;\"/>\r\n   </g>\r\n   <g id=\"patch_32\">\r\n    <path clip-path=\"url(#pe2d89b20ac)\" d=\"M 347.876607 224.64 \r\nL 356.047443 224.64 \r\nL 356.047443 178.070316 \r\nL 347.876607 178.070316 \r\nz\r\n\" style=\"fill:#1f77b4;\"/>\r\n   </g>\r\n   <g id=\"matplotlib.axis_1\">\r\n    <g id=\"xtick_1\">\r\n     <g id=\"line2d_1\">\r\n      <defs>\r\n       <path d=\"M 0 0 \r\nL 0 3.5 \r\n\" id=\"m37739c6720\" style=\"stroke:#000000;stroke-width:0.8;\"/>\r\n      </defs>\r\n      <g>\r\n       <use style=\"stroke:#000000;stroke-width:0.8;\" x=\"55.769225\" xlink:href=\"#m37739c6720\" y=\"224.64\"/>\r\n      </g>\r\n     </g>\r\n     <g id=\"text_1\">\r\n      <!-- 0 -->\r\n      <g transform=\"translate(52.587975 239.238437)scale(0.1 -0.1)\">\r\n       <defs>\r\n        <path d=\"M 31.78125 66.40625 \r\nQ 24.171875 66.40625 20.328125 58.90625 \r\nQ 16.5 51.421875 16.5 36.375 \r\nQ 16.5 21.390625 20.328125 13.890625 \r\nQ 24.171875 6.390625 31.78125 6.390625 \r\nQ 39.453125 6.390625 43.28125 13.890625 \r\nQ 47.125 21.390625 47.125 36.375 \r\nQ 47.125 51.421875 43.28125 58.90625 \r\nQ 39.453125 66.40625 31.78125 66.40625 \r\nz\r\nM 31.78125 74.21875 \r\nQ 44.046875 74.21875 50.515625 64.515625 \r\nQ 56.984375 54.828125 56.984375 36.375 \r\nQ 56.984375 17.96875 50.515625 8.265625 \r\nQ 44.046875 -1.421875 31.78125 -1.421875 \r\nQ 19.53125 -1.421875 13.0625 8.265625 \r\nQ 6.59375 17.96875 6.59375 36.375 \r\nQ 6.59375 54.828125 13.0625 64.515625 \r\nQ 19.53125 74.21875 31.78125 74.21875 \r\nz\r\n\" id=\"DejaVuSans-48\"/>\r\n       </defs>\r\n       <use xlink:href=\"#DejaVuSans-48\"/>\r\n      </g>\r\n     </g>\r\n    </g>\r\n    <g id=\"xtick_2\">\r\n     <g id=\"line2d_2\">\r\n      <g>\r\n       <use style=\"stroke:#000000;stroke-width:0.8;\" x=\"106.836949\" xlink:href=\"#m37739c6720\" y=\"224.64\"/>\r\n      </g>\r\n     </g>\r\n     <g id=\"text_2\">\r\n      <!-- 5 -->\r\n      <g transform=\"translate(103.655699 239.238437)scale(0.1 -0.1)\">\r\n       <defs>\r\n        <path d=\"M 10.796875 72.90625 \r\nL 49.515625 72.90625 \r\nL 49.515625 64.59375 \r\nL 19.828125 64.59375 \r\nL 19.828125 46.734375 \r\nQ 21.96875 47.46875 24.109375 47.828125 \r\nQ 26.265625 48.1875 28.421875 48.1875 \r\nQ 40.625 48.1875 47.75 41.5 \r\nQ 54.890625 34.8125 54.890625 23.390625 \r\nQ 54.890625 11.625 47.5625 5.09375 \r\nQ 40.234375 -1.421875 26.90625 -1.421875 \r\nQ 22.3125 -1.421875 17.546875 -0.640625 \r\nQ 12.796875 0.140625 7.71875 1.703125 \r\nL 7.71875 11.625 \r\nQ 12.109375 9.234375 16.796875 8.0625 \r\nQ 21.484375 6.890625 26.703125 6.890625 \r\nQ 35.15625 6.890625 40.078125 11.328125 \r\nQ 45.015625 15.765625 45.015625 23.390625 \r\nQ 45.015625 31 40.078125 35.4375 \r\nQ 35.15625 39.890625 26.703125 39.890625 \r\nQ 22.75 39.890625 18.8125 39.015625 \r\nQ 14.890625 38.140625 10.796875 36.28125 \r\nz\r\n\" id=\"DejaVuSans-53\"/>\r\n       </defs>\r\n       <use xlink:href=\"#DejaVuSans-53\"/>\r\n      </g>\r\n     </g>\r\n    </g>\r\n    <g id=\"xtick_3\">\r\n     <g id=\"line2d_3\">\r\n      <g>\r\n       <use style=\"stroke:#000000;stroke-width:0.8;\" x=\"157.904673\" xlink:href=\"#m37739c6720\" y=\"224.64\"/>\r\n      </g>\r\n     </g>\r\n     <g id=\"text_3\">\r\n      <!-- 10 -->\r\n      <g transform=\"translate(151.542173 239.238437)scale(0.1 -0.1)\">\r\n       <defs>\r\n        <path d=\"M 12.40625 8.296875 \r\nL 28.515625 8.296875 \r\nL 28.515625 63.921875 \r\nL 10.984375 60.40625 \r\nL 10.984375 69.390625 \r\nL 28.421875 72.90625 \r\nL 38.28125 72.90625 \r\nL 38.28125 8.296875 \r\nL 54.390625 8.296875 \r\nL 54.390625 0 \r\nL 12.40625 0 \r\nz\r\n\" id=\"DejaVuSans-49\"/>\r\n       </defs>\r\n       <use xlink:href=\"#DejaVuSans-49\"/>\r\n       <use x=\"63.623047\" xlink:href=\"#DejaVuSans-48\"/>\r\n      </g>\r\n     </g>\r\n    </g>\r\n    <g id=\"xtick_4\">\r\n     <g id=\"line2d_4\">\r\n      <g>\r\n       <use style=\"stroke:#000000;stroke-width:0.8;\" x=\"208.972397\" xlink:href=\"#m37739c6720\" y=\"224.64\"/>\r\n      </g>\r\n     </g>\r\n     <g id=\"text_4\">\r\n      <!-- 15 -->\r\n      <g transform=\"translate(202.609897 239.238437)scale(0.1 -0.1)\">\r\n       <use xlink:href=\"#DejaVuSans-49\"/>\r\n       <use x=\"63.623047\" xlink:href=\"#DejaVuSans-53\"/>\r\n      </g>\r\n     </g>\r\n    </g>\r\n    <g id=\"xtick_5\">\r\n     <g id=\"line2d_5\">\r\n      <g>\r\n       <use style=\"stroke:#000000;stroke-width:0.8;\" x=\"260.040122\" xlink:href=\"#m37739c6720\" y=\"224.64\"/>\r\n      </g>\r\n     </g>\r\n     <g id=\"text_5\">\r\n      <!-- 20 -->\r\n      <g transform=\"translate(253.677622 239.238437)scale(0.1 -0.1)\">\r\n       <defs>\r\n        <path d=\"M 19.1875 8.296875 \r\nL 53.609375 8.296875 \r\nL 53.609375 0 \r\nL 7.328125 0 \r\nL 7.328125 8.296875 \r\nQ 12.9375 14.109375 22.625 23.890625 \r\nQ 32.328125 33.6875 34.8125 36.53125 \r\nQ 39.546875 41.84375 41.421875 45.53125 \r\nQ 43.3125 49.21875 43.3125 52.78125 \r\nQ 43.3125 58.59375 39.234375 62.25 \r\nQ 35.15625 65.921875 28.609375 65.921875 \r\nQ 23.96875 65.921875 18.8125 64.3125 \r\nQ 13.671875 62.703125 7.8125 59.421875 \r\nL 7.8125 69.390625 \r\nQ 13.765625 71.78125 18.9375 73 \r\nQ 24.125 74.21875 28.421875 74.21875 \r\nQ 39.75 74.21875 46.484375 68.546875 \r\nQ 53.21875 62.890625 53.21875 53.421875 \r\nQ 53.21875 48.921875 51.53125 44.890625 \r\nQ 49.859375 40.875 45.40625 35.40625 \r\nQ 44.1875 33.984375 37.640625 27.21875 \r\nQ 31.109375 20.453125 19.1875 8.296875 \r\nz\r\n\" id=\"DejaVuSans-50\"/>\r\n       </defs>\r\n       <use xlink:href=\"#DejaVuSans-50\"/>\r\n       <use x=\"63.623047\" xlink:href=\"#DejaVuSans-48\"/>\r\n      </g>\r\n     </g>\r\n    </g>\r\n    <g id=\"xtick_6\">\r\n     <g id=\"line2d_6\">\r\n      <g>\r\n       <use style=\"stroke:#000000;stroke-width:0.8;\" x=\"311.107846\" xlink:href=\"#m37739c6720\" y=\"224.64\"/>\r\n      </g>\r\n     </g>\r\n     <g id=\"text_6\">\r\n      <!-- 25 -->\r\n      <g transform=\"translate(304.745346 239.238437)scale(0.1 -0.1)\">\r\n       <use xlink:href=\"#DejaVuSans-50\"/>\r\n       <use x=\"63.623047\" xlink:href=\"#DejaVuSans-53\"/>\r\n      </g>\r\n     </g>\r\n    </g>\r\n    <g id=\"xtick_7\">\r\n     <g id=\"line2d_7\">\r\n      <g>\r\n       <use style=\"stroke:#000000;stroke-width:0.8;\" x=\"362.17557\" xlink:href=\"#m37739c6720\" y=\"224.64\"/>\r\n      </g>\r\n     </g>\r\n     <g id=\"text_7\">\r\n      <!-- 30 -->\r\n      <g transform=\"translate(355.81307 239.238437)scale(0.1 -0.1)\">\r\n       <defs>\r\n        <path d=\"M 40.578125 39.3125 \r\nQ 47.65625 37.796875 51.625 33 \r\nQ 55.609375 28.21875 55.609375 21.1875 \r\nQ 55.609375 10.40625 48.1875 4.484375 \r\nQ 40.765625 -1.421875 27.09375 -1.421875 \r\nQ 22.515625 -1.421875 17.65625 -0.515625 \r\nQ 12.796875 0.390625 7.625 2.203125 \r\nL 7.625 11.71875 \r\nQ 11.71875 9.328125 16.59375 8.109375 \r\nQ 21.484375 6.890625 26.8125 6.890625 \r\nQ 36.078125 6.890625 40.9375 10.546875 \r\nQ 45.796875 14.203125 45.796875 21.1875 \r\nQ 45.796875 27.640625 41.28125 31.265625 \r\nQ 36.765625 34.90625 28.71875 34.90625 \r\nL 20.21875 34.90625 \r\nL 20.21875 43.015625 \r\nL 29.109375 43.015625 \r\nQ 36.375 43.015625 40.234375 45.921875 \r\nQ 44.09375 48.828125 44.09375 54.296875 \r\nQ 44.09375 59.90625 40.109375 62.90625 \r\nQ 36.140625 65.921875 28.71875 65.921875 \r\nQ 24.65625 65.921875 20.015625 65.03125 \r\nQ 15.375 64.15625 9.8125 62.3125 \r\nL 9.8125 71.09375 \r\nQ 15.4375 72.65625 20.34375 73.4375 \r\nQ 25.25 74.21875 29.59375 74.21875 \r\nQ 40.828125 74.21875 47.359375 69.109375 \r\nQ 53.90625 64.015625 53.90625 55.328125 \r\nQ 53.90625 49.265625 50.4375 45.09375 \r\nQ 46.96875 40.921875 40.578125 39.3125 \r\nz\r\n\" id=\"DejaVuSans-51\"/>\r\n       </defs>\r\n       <use xlink:href=\"#DejaVuSans-51\"/>\r\n       <use x=\"63.623047\" xlink:href=\"#DejaVuSans-48\"/>\r\n      </g>\r\n     </g>\r\n    </g>\r\n   </g>\r\n   <g id=\"matplotlib.axis_2\">\r\n    <g id=\"ytick_1\">\r\n     <g id=\"line2d_8\">\r\n      <defs>\r\n       <path d=\"M 0 0 \r\nL -3.5 0 \r\n\" id=\"mb12472052d\" style=\"stroke:#000000;stroke-width:0.8;\"/>\r\n      </defs>\r\n      <g>\r\n       <use style=\"stroke:#000000;stroke-width:0.8;\" x=\"36.465625\" xlink:href=\"#mb12472052d\" y=\"224.64\"/>\r\n      </g>\r\n     </g>\r\n     <g id=\"text_8\">\r\n      <!-- 0.00 -->\r\n      <g transform=\"translate(7.2 228.439219)scale(0.1 -0.1)\">\r\n       <defs>\r\n        <path d=\"M 10.6875 12.40625 \r\nL 21 12.40625 \r\nL 21 0 \r\nL 10.6875 0 \r\nz\r\n\" id=\"DejaVuSans-46\"/>\r\n       </defs>\r\n       <use xlink:href=\"#DejaVuSans-48\"/>\r\n       <use x=\"63.623047\" xlink:href=\"#DejaVuSans-46\"/>\r\n       <use x=\"95.410156\" xlink:href=\"#DejaVuSans-48\"/>\r\n       <use x=\"159.033203\" xlink:href=\"#DejaVuSans-48\"/>\r\n      </g>\r\n     </g>\r\n    </g>\r\n    <g id=\"ytick_2\">\r\n     <g id=\"line2d_9\">\r\n      <g>\r\n       <use style=\"stroke:#000000;stroke-width:0.8;\" x=\"36.465625\" xlink:href=\"#mb12472052d\" y=\"193.249046\"/>\r\n      </g>\r\n     </g>\r\n     <g id=\"text_9\">\r\n      <!-- 0.02 -->\r\n      <g transform=\"translate(7.2 197.048265)scale(0.1 -0.1)\">\r\n       <use xlink:href=\"#DejaVuSans-48\"/>\r\n       <use x=\"63.623047\" xlink:href=\"#DejaVuSans-46\"/>\r\n       <use x=\"95.410156\" xlink:href=\"#DejaVuSans-48\"/>\r\n       <use x=\"159.033203\" xlink:href=\"#DejaVuSans-50\"/>\r\n      </g>\r\n     </g>\r\n    </g>\r\n    <g id=\"ytick_3\">\r\n     <g id=\"line2d_10\">\r\n      <g>\r\n       <use style=\"stroke:#000000;stroke-width:0.8;\" x=\"36.465625\" xlink:href=\"#mb12472052d\" y=\"161.858092\"/>\r\n      </g>\r\n     </g>\r\n     <g id=\"text_10\">\r\n      <!-- 0.04 -->\r\n      <g transform=\"translate(7.2 165.65731)scale(0.1 -0.1)\">\r\n       <defs>\r\n        <path d=\"M 37.796875 64.3125 \r\nL 12.890625 25.390625 \r\nL 37.796875 25.390625 \r\nz\r\nM 35.203125 72.90625 \r\nL 47.609375 72.90625 \r\nL 47.609375 25.390625 \r\nL 58.015625 25.390625 \r\nL 58.015625 17.1875 \r\nL 47.609375 17.1875 \r\nL 47.609375 0 \r\nL 37.796875 0 \r\nL 37.796875 17.1875 \r\nL 4.890625 17.1875 \r\nL 4.890625 26.703125 \r\nz\r\n\" id=\"DejaVuSans-52\"/>\r\n       </defs>\r\n       <use xlink:href=\"#DejaVuSans-48\"/>\r\n       <use x=\"63.623047\" xlink:href=\"#DejaVuSans-46\"/>\r\n       <use x=\"95.410156\" xlink:href=\"#DejaVuSans-48\"/>\r\n       <use x=\"159.033203\" xlink:href=\"#DejaVuSans-52\"/>\r\n      </g>\r\n     </g>\r\n    </g>\r\n    <g id=\"ytick_4\">\r\n     <g id=\"line2d_11\">\r\n      <g>\r\n       <use style=\"stroke:#000000;stroke-width:0.8;\" x=\"36.465625\" xlink:href=\"#mb12472052d\" y=\"130.467137\"/>\r\n      </g>\r\n     </g>\r\n     <g id=\"text_11\">\r\n      <!-- 0.06 -->\r\n      <g transform=\"translate(7.2 134.266356)scale(0.1 -0.1)\">\r\n       <defs>\r\n        <path d=\"M 33.015625 40.375 \r\nQ 26.375 40.375 22.484375 35.828125 \r\nQ 18.609375 31.296875 18.609375 23.390625 \r\nQ 18.609375 15.53125 22.484375 10.953125 \r\nQ 26.375 6.390625 33.015625 6.390625 \r\nQ 39.65625 6.390625 43.53125 10.953125 \r\nQ 47.40625 15.53125 47.40625 23.390625 \r\nQ 47.40625 31.296875 43.53125 35.828125 \r\nQ 39.65625 40.375 33.015625 40.375 \r\nz\r\nM 52.59375 71.296875 \r\nL 52.59375 62.3125 \r\nQ 48.875 64.0625 45.09375 64.984375 \r\nQ 41.3125 65.921875 37.59375 65.921875 \r\nQ 27.828125 65.921875 22.671875 59.328125 \r\nQ 17.53125 52.734375 16.796875 39.40625 \r\nQ 19.671875 43.65625 24.015625 45.921875 \r\nQ 28.375 48.1875 33.59375 48.1875 \r\nQ 44.578125 48.1875 50.953125 41.515625 \r\nQ 57.328125 34.859375 57.328125 23.390625 \r\nQ 57.328125 12.15625 50.6875 5.359375 \r\nQ 44.046875 -1.421875 33.015625 -1.421875 \r\nQ 20.359375 -1.421875 13.671875 8.265625 \r\nQ 6.984375 17.96875 6.984375 36.375 \r\nQ 6.984375 53.65625 15.1875 63.9375 \r\nQ 23.390625 74.21875 37.203125 74.21875 \r\nQ 40.921875 74.21875 44.703125 73.484375 \r\nQ 48.484375 72.75 52.59375 71.296875 \r\nz\r\n\" id=\"DejaVuSans-54\"/>\r\n       </defs>\r\n       <use xlink:href=\"#DejaVuSans-48\"/>\r\n       <use x=\"63.623047\" xlink:href=\"#DejaVuSans-46\"/>\r\n       <use x=\"95.410156\" xlink:href=\"#DejaVuSans-48\"/>\r\n       <use x=\"159.033203\" xlink:href=\"#DejaVuSans-54\"/>\r\n      </g>\r\n     </g>\r\n    </g>\r\n    <g id=\"ytick_5\">\r\n     <g id=\"line2d_12\">\r\n      <g>\r\n       <use style=\"stroke:#000000;stroke-width:0.8;\" x=\"36.465625\" xlink:href=\"#mb12472052d\" y=\"99.076183\"/>\r\n      </g>\r\n     </g>\r\n     <g id=\"text_12\">\r\n      <!-- 0.08 -->\r\n      <g transform=\"translate(7.2 102.875402)scale(0.1 -0.1)\">\r\n       <defs>\r\n        <path d=\"M 31.78125 34.625 \r\nQ 24.75 34.625 20.71875 30.859375 \r\nQ 16.703125 27.09375 16.703125 20.515625 \r\nQ 16.703125 13.921875 20.71875 10.15625 \r\nQ 24.75 6.390625 31.78125 6.390625 \r\nQ 38.8125 6.390625 42.859375 10.171875 \r\nQ 46.921875 13.96875 46.921875 20.515625 \r\nQ 46.921875 27.09375 42.890625 30.859375 \r\nQ 38.875 34.625 31.78125 34.625 \r\nz\r\nM 21.921875 38.8125 \r\nQ 15.578125 40.375 12.03125 44.71875 \r\nQ 8.5 49.078125 8.5 55.328125 \r\nQ 8.5 64.0625 14.71875 69.140625 \r\nQ 20.953125 74.21875 31.78125 74.21875 \r\nQ 42.671875 74.21875 48.875 69.140625 \r\nQ 55.078125 64.0625 55.078125 55.328125 \r\nQ 55.078125 49.078125 51.53125 44.71875 \r\nQ 48 40.375 41.703125 38.8125 \r\nQ 48.828125 37.15625 52.796875 32.3125 \r\nQ 56.78125 27.484375 56.78125 20.515625 \r\nQ 56.78125 9.90625 50.3125 4.234375 \r\nQ 43.84375 -1.421875 31.78125 -1.421875 \r\nQ 19.734375 -1.421875 13.25 4.234375 \r\nQ 6.78125 9.90625 6.78125 20.515625 \r\nQ 6.78125 27.484375 10.78125 32.3125 \r\nQ 14.796875 37.15625 21.921875 38.8125 \r\nz\r\nM 18.3125 54.390625 \r\nQ 18.3125 48.734375 21.84375 45.5625 \r\nQ 25.390625 42.390625 31.78125 42.390625 \r\nQ 38.140625 42.390625 41.71875 45.5625 \r\nQ 45.3125 48.734375 45.3125 54.390625 \r\nQ 45.3125 60.0625 41.71875 63.234375 \r\nQ 38.140625 66.40625 31.78125 66.40625 \r\nQ 25.390625 66.40625 21.84375 63.234375 \r\nQ 18.3125 60.0625 18.3125 54.390625 \r\nz\r\n\" id=\"DejaVuSans-56\"/>\r\n       </defs>\r\n       <use xlink:href=\"#DejaVuSans-48\"/>\r\n       <use x=\"63.623047\" xlink:href=\"#DejaVuSans-46\"/>\r\n       <use x=\"95.410156\" xlink:href=\"#DejaVuSans-48\"/>\r\n       <use x=\"159.033203\" xlink:href=\"#DejaVuSans-56\"/>\r\n      </g>\r\n     </g>\r\n    </g>\r\n    <g id=\"ytick_6\">\r\n     <g id=\"line2d_13\">\r\n      <g>\r\n       <use style=\"stroke:#000000;stroke-width:0.8;\" x=\"36.465625\" xlink:href=\"#mb12472052d\" y=\"67.685229\"/>\r\n      </g>\r\n     </g>\r\n     <g id=\"text_13\">\r\n      <!-- 0.10 -->\r\n      <g transform=\"translate(7.2 71.484448)scale(0.1 -0.1)\">\r\n       <use xlink:href=\"#DejaVuSans-48\"/>\r\n       <use x=\"63.623047\" xlink:href=\"#DejaVuSans-46\"/>\r\n       <use x=\"95.410156\" xlink:href=\"#DejaVuSans-49\"/>\r\n       <use x=\"159.033203\" xlink:href=\"#DejaVuSans-48\"/>\r\n      </g>\r\n     </g>\r\n    </g>\r\n    <g id=\"ytick_7\">\r\n     <g id=\"line2d_14\">\r\n      <g>\r\n       <use style=\"stroke:#000000;stroke-width:0.8;\" x=\"36.465625\" xlink:href=\"#mb12472052d\" y=\"36.294275\"/>\r\n      </g>\r\n     </g>\r\n     <g id=\"text_14\">\r\n      <!-- 0.12 -->\r\n      <g transform=\"translate(7.2 40.093494)scale(0.1 -0.1)\">\r\n       <use xlink:href=\"#DejaVuSans-48\"/>\r\n       <use x=\"63.623047\" xlink:href=\"#DejaVuSans-46\"/>\r\n       <use x=\"95.410156\" xlink:href=\"#DejaVuSans-49\"/>\r\n       <use x=\"159.033203\" xlink:href=\"#DejaVuSans-50\"/>\r\n      </g>\r\n     </g>\r\n    </g>\r\n   </g>\r\n   <g id=\"patch_33\">\r\n    <path d=\"M 36.465625 224.64 \r\nL 36.465625 7.2 \r\n\" style=\"fill:none;stroke:#000000;stroke-linecap:square;stroke-linejoin:miter;stroke-width:0.8;\"/>\r\n   </g>\r\n   <g id=\"patch_34\">\r\n    <path d=\"M 371.265625 224.64 \r\nL 371.265625 7.2 \r\n\" style=\"fill:none;stroke:#000000;stroke-linecap:square;stroke-linejoin:miter;stroke-width:0.8;\"/>\r\n   </g>\r\n   <g id=\"patch_35\">\r\n    <path d=\"M 36.465625 224.64 \r\nL 371.265625 224.64 \r\n\" style=\"fill:none;stroke:#000000;stroke-linecap:square;stroke-linejoin:miter;stroke-width:0.8;\"/>\r\n   </g>\r\n   <g id=\"patch_36\">\r\n    <path d=\"M 36.465625 7.2 \r\nL 371.265625 7.2 \r\n\" style=\"fill:none;stroke:#000000;stroke-linecap:square;stroke-linejoin:miter;stroke-width:0.8;\"/>\r\n   </g>\r\n  </g>\r\n </g>\r\n <defs>\r\n  <clipPath id=\"pe2d89b20ac\">\r\n   <rect height=\"217.44\" width=\"334.8\" x=\"36.465625\" y=\"7.2\"/>\r\n  </clipPath>\r\n </defs>\r\n</svg>\r\n",
      "image/png": "[encoded data removed]"
     },
     "metadata": {
      "needs_background": "light"
     }
    }
   ],
   "source": [
    "#Feature Importance\n",
    "\n",
    "# get importance\n",
    "\n",
    "importance = model_rf.feature_importances_\n",
    "\n",
    "# summarize feature importance\n",
    "\n",
    "for i,v in enumerate(importance):\n",
    "\tprint('Feature: %0d, Score: %.5f' % (i,v))\n",
    "\n",
    "# plot feature importance\n",
    "\n",
    "plt.bar([x for x in range(len(importance))], importance)\n",
    "plt.show()"
   ]
  },
  {
   "cell_type": "code",
   "execution_count": 111,
   "metadata": {},
   "outputs": [
    {
     "output_type": "stream",
     "name": "stdout",
     "text": [
      "Accuracy Score of Ada Boost Classifier is : 0.8766541822721599\nConfusion Matrix : \n[[5400  385]\n [ 603 1622]]\nClassification Report : \n              precision    recall  f1-score   support\n\n           0       0.90      0.93      0.92      5785\n           1       0.81      0.73      0.77      2225\n\n    accuracy                           0.88      8010\n   macro avg       0.85      0.83      0.84      8010\nweighted avg       0.87      0.88      0.87      8010\n\n"
     ]
    }
   ],
   "source": [
    "# Ada Boost\n",
    "model_ada = AdaBoostClassifier(n_estimators = 1000).fit(X_train, y_train)\n",
    "model_ada_prediction = model_ada.predict(X_test)\n",
    "accuracy_ada = accuracy_score(y_test, model_ada_prediction)\n",
    "\n",
    "conf_ada = confusion_matrix(y_test, model_ada_prediction)\n",
    "clf_report_ada = classification_report(y_test, model_ada_prediction)\n",
    "\n",
    "print(f\"Accuracy Score of Ada Boost Classifier is : {accuracy_ada}\")\n",
    "print(f\"Confusion Matrix : \\n{conf_ada}\")\n",
    "print(f\"Classification Report : \\n{clf_report_ada}\")"
   ]
  },
  {
   "cell_type": "code",
   "execution_count": 112,
   "metadata": {},
   "outputs": [
    {
     "output_type": "execute_result",
     "data": {
      "text/plain": [
       "0.6830285530959256"
      ]
     },
     "metadata": {},
     "execution_count": 112
    }
   ],
   "source": [
    "kappa_ada = cohen_kappa_score(y_test, model_ada_prediction)\n",
    "kappa_ada"
   ]
  },
  {
   "cell_type": "code",
   "execution_count": 113,
   "metadata": {},
   "outputs": [
    {
     "output_type": "stream",
     "name": "stdout",
     "text": [
      "Accuracy Score of Ada Boost Classifier is : 0.8850187265917603\nConfusion Matrix : \n[[5442  343]\n [ 578 1647]]\nClassification Report : \n              precision    recall  f1-score   support\n\n           0       0.90      0.94      0.92      5785\n           1       0.83      0.74      0.78      2225\n\n    accuracy                           0.89      8010\n   macro avg       0.87      0.84      0.85      8010\nweighted avg       0.88      0.89      0.88      8010\n\n"
     ]
    }
   ],
   "source": [
    "# Gradient Boosting Classifier\n",
    "model_gb = GradientBoostingClassifier().fit(X_train, y_train)\n",
    "model_gb_prediction = model_gb.predict(X_test)\n",
    "\n",
    "accuracy_gb = accuracy_score(y_test, model_gb_prediction)\n",
    "conf_gb = confusion_matrix(y_test, model_gb_prediction)\n",
    "clf_report_gb = classification_report(y_test, model_gb_prediction)\n",
    "\n",
    "print(f\"Accuracy Score of Ada Boost Classifier is : {accuracy_gb}\")\n",
    "print(f\"Confusion Matrix : \\n{conf_gb}\")\n",
    "print(f\"Classification Report : \\n{clf_report_gb}\")"
   ]
  },
  {
   "cell_type": "code",
   "execution_count": 114,
   "metadata": {},
   "outputs": [
    {
     "output_type": "execute_result",
     "data": {
      "text/plain": [
       "0.7038056101482937"
      ]
     },
     "metadata": {},
     "execution_count": 114
    }
   ],
   "source": [
    "kappa_gb = cohen_kappa_score(y_test, model_gb_prediction)\n",
    "kappa_gb"
   ]
  },
  {
   "cell_type": "code",
   "execution_count": 115,
   "metadata": {},
   "outputs": [
    {
     "output_type": "stream",
     "name": "stdout",
     "text": [
      "[22:45:14] WARNING: C:/Users/Administrator/workspace/xgboost-win64_release_1.4.0/src/learner.cc:1095: Starting in XGBoost 1.3.0, the default evaluation metric used with the objective 'binary:logistic' was changed from 'error' to 'logloss'. Explicitly set eval_metric if you'd like to restore the old behavior.\n",
      "C:\\ProgramData\\Anaconda3\\lib\\site-packages\\xgboost\\sklearn.py:1146: UserWarning: The use of label encoder in XGBClassifier is deprecated and will be removed in a future release. To remove this warning, do the following: 1) Pass option use_label_encoder=False when constructing XGBClassifier object; and 2) Encode your labels (y) as integers starting with 0, i.e. 0, 1, 2, ..., [num_class - 1].\n",
      "  warnings.warn(label_encoder_deprecation_msg, UserWarning)\n",
      "Accuracy Score of XgBoost Classifier is : 0.9071161048689138\n",
      "Confusion Matrix : \n",
      "[[5444  341]\n",
      " [ 403 1822]]\n",
      "Classification Report : \n",
      "              precision    recall  f1-score   support\n",
      "\n",
      "           0       0.93      0.94      0.94      5785\n",
      "           1       0.84      0.82      0.83      2225\n",
      "\n",
      "    accuracy                           0.91      8010\n",
      "   macro avg       0.89      0.88      0.88      8010\n",
      "weighted avg       0.91      0.91      0.91      8010\n",
      "\n"
     ]
    }
   ],
   "source": [
    "# XgBoost Classifier\n",
    "model_xgb = XGBClassifier(booster = 'gbtree', learning_rate = 0.1, max_depth = 5, n_estimators = 180).fit(X_train, y_train)\n",
    "model_xgb_prediction = model_xgb.predict(X_test)\n",
    "\n",
    "accuracy_xgb = accuracy_score(y_test, model_xgb_prediction)\n",
    "conf_xgb = confusion_matrix(y_test, model_xgb_prediction)\n",
    "clf_report_xgb = classification_report(y_test, model_xgb_prediction)\n",
    "\n",
    "print(f\"Accuracy Score of XgBoost Classifier is : {accuracy_xgb}\")\n",
    "print(f\"Confusion Matrix : \\n{conf_xgb}\")\n",
    "print(f\"Classification Report : \\n{clf_report_xgb}\")"
   ]
  },
  {
   "cell_type": "code",
   "execution_count": 116,
   "metadata": {},
   "outputs": [
    {
     "output_type": "execute_result",
     "data": {
      "text/plain": [
       "0.7665027722565122"
      ]
     },
     "metadata": {},
     "execution_count": 116
    }
   ],
   "source": [
    "kappa_xgb = cohen_kappa_score(y_test, model_xgb_prediction)\n",
    "kappa_xgb"
   ]
  },
  {
   "cell_type": "code",
   "execution_count": 117,
   "metadata": {},
   "outputs": [
    {
     "output_type": "stream",
     "name": "stdout",
     "text": [
      "Learning rate set to 0.373979\n",
      "0:\tlearn: 0.4533417\ttotal: 28.3ms\tremaining: 2.8s\n",
      "1:\tlearn: 0.3878438\ttotal: 56ms\tremaining: 2.74s\n",
      "2:\tlearn: 0.3396639\ttotal: 82.3ms\tremaining: 2.66s\n",
      "3:\tlearn: 0.3234841\ttotal: 110ms\tremaining: 2.64s\n",
      "4:\tlearn: 0.3055790\ttotal: 139ms\tremaining: 2.64s\n",
      "5:\tlearn: 0.2980475\ttotal: 164ms\tremaining: 2.57s\n",
      "6:\tlearn: 0.2913047\ttotal: 189ms\tremaining: 2.52s\n",
      "7:\tlearn: 0.2815501\ttotal: 220ms\tremaining: 2.53s\n",
      "8:\tlearn: 0.2751620\ttotal: 242ms\tremaining: 2.44s\n",
      "9:\tlearn: 0.2712751\ttotal: 274ms\tremaining: 2.46s\n",
      "10:\tlearn: 0.2677805\ttotal: 315ms\tremaining: 2.55s\n",
      "11:\tlearn: 0.2629527\ttotal: 350ms\tremaining: 2.56s\n",
      "12:\tlearn: 0.2602385\ttotal: 386ms\tremaining: 2.58s\n",
      "13:\tlearn: 0.2578381\ttotal: 429ms\tremaining: 2.63s\n",
      "14:\tlearn: 0.2563383\ttotal: 459ms\tremaining: 2.6s\n",
      "15:\tlearn: 0.2557709\ttotal: 482ms\tremaining: 2.53s\n",
      "16:\tlearn: 0.2540410\ttotal: 529ms\tremaining: 2.58s\n",
      "17:\tlearn: 0.2522764\ttotal: 582ms\tremaining: 2.65s\n",
      "18:\tlearn: 0.2505444\ttotal: 627ms\tremaining: 2.67s\n",
      "19:\tlearn: 0.2493745\ttotal: 676ms\tremaining: 2.71s\n",
      "20:\tlearn: 0.2481149\ttotal: 705ms\tremaining: 2.65s\n",
      "21:\tlearn: 0.2469651\ttotal: 740ms\tremaining: 2.62s\n",
      "22:\tlearn: 0.2462014\ttotal: 775ms\tremaining: 2.59s\n",
      "23:\tlearn: 0.2439961\ttotal: 819ms\tremaining: 2.59s\n",
      "24:\tlearn: 0.2432284\ttotal: 844ms\tremaining: 2.53s\n",
      "25:\tlearn: 0.2416619\ttotal: 871ms\tremaining: 2.48s\n",
      "26:\tlearn: 0.2402251\ttotal: 900ms\tremaining: 2.43s\n",
      "27:\tlearn: 0.2378132\ttotal: 925ms\tremaining: 2.38s\n",
      "28:\tlearn: 0.2366449\ttotal: 952ms\tremaining: 2.33s\n",
      "29:\tlearn: 0.2357659\ttotal: 982ms\tremaining: 2.29s\n",
      "30:\tlearn: 0.2346962\ttotal: 1s\tremaining: 2.24s\n",
      "31:\tlearn: 0.2333346\ttotal: 1.03s\tremaining: 2.18s\n",
      "32:\tlearn: 0.2329502\ttotal: 1.05s\tremaining: 2.13s\n",
      "33:\tlearn: 0.2315774\ttotal: 1.08s\tremaining: 2.09s\n",
      "34:\tlearn: 0.2307912\ttotal: 1.1s\tremaining: 2.05s\n",
      "35:\tlearn: 0.2290388\ttotal: 1.14s\tremaining: 2.02s\n",
      "36:\tlearn: 0.2274239\ttotal: 1.18s\tremaining: 2s\n",
      "37:\tlearn: 0.2262799\ttotal: 1.21s\tremaining: 1.98s\n",
      "38:\tlearn: 0.2256503\ttotal: 1.25s\tremaining: 1.95s\n",
      "39:\tlearn: 0.2253323\ttotal: 1.3s\tremaining: 1.95s\n",
      "40:\tlearn: 0.2246007\ttotal: 1.35s\tremaining: 1.95s\n",
      "41:\tlearn: 0.2238590\ttotal: 1.41s\tremaining: 1.95s\n",
      "42:\tlearn: 0.2235859\ttotal: 1.46s\tremaining: 1.93s\n",
      "43:\tlearn: 0.2226471\ttotal: 1.51s\tremaining: 1.92s\n",
      "44:\tlearn: 0.2217140\ttotal: 1.57s\tremaining: 1.91s\n",
      "45:\tlearn: 0.2209542\ttotal: 1.62s\tremaining: 1.9s\n",
      "46:\tlearn: 0.2203770\ttotal: 1.67s\tremaining: 1.88s\n",
      "47:\tlearn: 0.2196185\ttotal: 1.72s\tremaining: 1.86s\n",
      "48:\tlearn: 0.2189576\ttotal: 1.78s\tremaining: 1.85s\n",
      "49:\tlearn: 0.2181208\ttotal: 1.81s\tremaining: 1.81s\n",
      "50:\tlearn: 0.2172236\ttotal: 1.85s\tremaining: 1.78s\n",
      "51:\tlearn: 0.2166440\ttotal: 1.89s\tremaining: 1.75s\n",
      "52:\tlearn: 0.2157436\ttotal: 1.93s\tremaining: 1.71s\n",
      "53:\tlearn: 0.2149155\ttotal: 1.97s\tremaining: 1.67s\n",
      "54:\tlearn: 0.2142354\ttotal: 2s\tremaining: 1.64s\n",
      "55:\tlearn: 0.2132081\ttotal: 2.04s\tremaining: 1.6s\n",
      "56:\tlearn: 0.2122525\ttotal: 2.08s\tremaining: 1.57s\n",
      "57:\tlearn: 0.2112917\ttotal: 2.12s\tremaining: 1.53s\n",
      "58:\tlearn: 0.2106026\ttotal: 2.15s\tremaining: 1.49s\n",
      "59:\tlearn: 0.2105893\ttotal: 2.18s\tremaining: 1.45s\n",
      "60:\tlearn: 0.2098863\ttotal: 2.22s\tremaining: 1.42s\n",
      "61:\tlearn: 0.2091583\ttotal: 2.25s\tremaining: 1.38s\n",
      "62:\tlearn: 0.2083853\ttotal: 2.28s\tremaining: 1.34s\n",
      "63:\tlearn: 0.2080250\ttotal: 2.3s\tremaining: 1.29s\n",
      "64:\tlearn: 0.2074453\ttotal: 2.33s\tremaining: 1.25s\n",
      "65:\tlearn: 0.2067493\ttotal: 2.36s\tremaining: 1.22s\n",
      "66:\tlearn: 0.2060058\ttotal: 2.39s\tremaining: 1.18s\n",
      "67:\tlearn: 0.2056184\ttotal: 2.41s\tremaining: 1.14s\n",
      "68:\tlearn: 0.2048651\ttotal: 2.44s\tremaining: 1.1s\n",
      "69:\tlearn: 0.2048552\ttotal: 2.47s\tremaining: 1.06s\n",
      "70:\tlearn: 0.2041584\ttotal: 2.49s\tremaining: 1.02s\n",
      "71:\tlearn: 0.2031410\ttotal: 2.52s\tremaining: 980ms\n",
      "72:\tlearn: 0.2025404\ttotal: 2.55s\tremaining: 943ms\n",
      "73:\tlearn: 0.2017178\ttotal: 2.58s\tremaining: 905ms\n",
      "74:\tlearn: 0.2011802\ttotal: 2.6s\tremaining: 867ms\n",
      "75:\tlearn: 0.1999933\ttotal: 2.63s\tremaining: 829ms\n",
      "76:\tlearn: 0.1992830\ttotal: 2.65s\tremaining: 792ms\n",
      "77:\tlearn: 0.1986838\ttotal: 2.67s\tremaining: 755ms\n",
      "78:\tlearn: 0.1980404\ttotal: 2.7s\tremaining: 718ms\n",
      "79:\tlearn: 0.1973343\ttotal: 2.73s\tremaining: 683ms\n",
      "80:\tlearn: 0.1967004\ttotal: 2.75s\tremaining: 646ms\n",
      "81:\tlearn: 0.1963466\ttotal: 2.78s\tremaining: 610ms\n",
      "82:\tlearn: 0.1957197\ttotal: 2.81s\tremaining: 575ms\n",
      "83:\tlearn: 0.1950854\ttotal: 2.83s\tremaining: 539ms\n",
      "84:\tlearn: 0.1942247\ttotal: 2.86s\tremaining: 505ms\n",
      "85:\tlearn: 0.1935950\ttotal: 2.89s\tremaining: 470ms\n",
      "86:\tlearn: 0.1928319\ttotal: 2.92s\tremaining: 436ms\n",
      "87:\tlearn: 0.1921349\ttotal: 2.94s\tremaining: 402ms\n",
      "88:\tlearn: 0.1915126\ttotal: 3.01s\tremaining: 372ms\n",
      "89:\tlearn: 0.1910794\ttotal: 3.06s\tremaining: 340ms\n",
      "90:\tlearn: 0.1904801\ttotal: 3.09s\tremaining: 305ms\n",
      "91:\tlearn: 0.1900370\ttotal: 3.11s\tremaining: 271ms\n",
      "92:\tlearn: 0.1895826\ttotal: 3.14s\tremaining: 237ms\n",
      "93:\tlearn: 0.1889522\ttotal: 3.17s\tremaining: 202ms\n",
      "94:\tlearn: 0.1885383\ttotal: 3.2s\tremaining: 168ms\n",
      "95:\tlearn: 0.1879679\ttotal: 3.22s\tremaining: 134ms\n",
      "96:\tlearn: 0.1876323\ttotal: 3.27s\tremaining: 101ms\n",
      "97:\tlearn: 0.1872257\ttotal: 3.29s\tremaining: 67.2ms\n",
      "98:\tlearn: 0.1866451\ttotal: 3.32s\tremaining: 33.6ms\n",
      "99:\tlearn: 0.1862360\ttotal: 3.35s\tremaining: 0us\n",
      "Accuracy Score of Cat Boost Classifier is : 0.9041198501872659\n",
      "Confusion Matrix : \n",
      "[[5434  351]\n",
      " [ 417 1808]]\n",
      "Classification Report : \n",
      "              precision    recall  f1-score   support\n",
      "\n",
      "           0       0.93      0.94      0.93      5785\n",
      "           1       0.84      0.81      0.82      2225\n",
      "\n",
      "    accuracy                           0.90      8010\n",
      "   macro avg       0.88      0.88      0.88      8010\n",
      "weighted avg       0.90      0.90      0.90      8010\n",
      "\n"
     ]
    }
   ],
   "source": [
    "# Cat Boost Classifier\n",
    "model_cat = CatBoostClassifier(iterations=100).fit(X_train, y_train)\n",
    "model_cat_prediction = model_cat.predict(X_test)\n",
    "\n",
    "accuracy_cat = accuracy_score(y_test, model_cat_prediction)\n",
    "conf_cat = confusion_matrix(y_test, model_cat_prediction)\n",
    "clf_report_cat = classification_report(y_test, model_cat_prediction)\n",
    "\n",
    "print(f\"Accuracy Score of Cat Boost Classifier is : {accuracy_cat}\")\n",
    "print(f\"Confusion Matrix : \\n{conf_cat}\")\n",
    "print(f\"Classification Report : \\n{clf_report_cat}\")"
   ]
  },
  {
   "cell_type": "code",
   "execution_count": 118,
   "metadata": {},
   "outputs": [
    {
     "output_type": "execute_result",
     "data": {
      "text/plain": [
       "0.7588360489864275"
      ]
     },
     "metadata": {},
     "execution_count": 118
    }
   ],
   "source": [
    "kappa_cat = cohen_kappa_score(y_test, model_cat_prediction)\n",
    "kappa_cat"
   ]
  },
  {
   "cell_type": "code",
   "execution_count": 119,
   "metadata": {},
   "outputs": [
    {
     "output_type": "stream",
     "name": "stdout",
     "text": [
      "Accuracy Score of Cat Boost Classifier is : 0.9138576779026217\nConfusion Matrix : \n[[5559  226]\n [ 464 1761]]\nClassification Report : \n              precision    recall  f1-score   support\n\n           0       0.92      0.96      0.94      5785\n           1       0.89      0.79      0.84      2225\n\n    accuracy                           0.91      8010\n   macro avg       0.90      0.88      0.89      8010\nweighted avg       0.91      0.91      0.91      8010\n\n"
     ]
    }
   ],
   "source": [
    "# Extra Trees Classifier\n",
    "model_etc = ExtraTreesClassifier().fit(X_train, y_train)\n",
    "model_etc_prediction = model_etc.predict(X_test)\n",
    "\n",
    "accuracy_etc = accuracy_score(y_test, model_etc_prediction)\n",
    "conf_etc = confusion_matrix(y_test, model_etc_prediction)\n",
    "clf_report_etc = classification_report(y_test, model_etc_prediction)\n",
    "\n",
    "print(f\"Accuracy Score of Cat Boost Classifier is : {accuracy_etc}\")\n",
    "print(f\"Confusion Matrix : \\n{conf_etc}\")\n",
    "print(f\"Classification Report : \\n{clf_report_etc}\")"
   ]
  },
  {
   "cell_type": "code",
   "execution_count": 120,
   "metadata": {},
   "outputs": [
    {
     "output_type": "execute_result",
     "data": {
      "text/plain": [
       "0.7780002144925464"
      ]
     },
     "metadata": {},
     "execution_count": 120
    }
   ],
   "source": [
    "kappa_etc = cohen_kappa_score(y_test, model_etc_prediction)\n",
    "kappa_etc"
   ]
  },
  {
   "cell_type": "code",
   "execution_count": 121,
   "metadata": {},
   "outputs": [
    {
     "output_type": "stream",
     "name": "stdout",
     "text": [
      "Accuracy Score of Cat Boost Classifier is : 0.8826466916354557\nConfusion Matrix : \n[[5287  498]\n [ 442 1783]]\nClassification Report : \n              precision    recall  f1-score   support\n\n           0       0.92      0.91      0.92      5785\n           1       0.78      0.80      0.79      2225\n\n    accuracy                           0.88      8010\n   macro avg       0.85      0.86      0.85      8010\nweighted avg       0.88      0.88      0.88      8010\n\n"
     ]
    }
   ],
   "source": [
    "# LGBM Classifier\n",
    "model_lgbm = LGBMClassifier(learning_rate = 1).fit(X_train, y_train)\n",
    "model_lgbm_prediction = model_lgbm.predict(X_test)\n",
    "\n",
    "accuracy_lgbm = accuracy_score(y_test, model_lgbm_prediction)\n",
    "conf_lgbm = confusion_matrix(y_test, model_lgbm_prediction)\n",
    "clf_report_lgbm = classification_report(y_test, model_lgbm_prediction)\n",
    "\n",
    "print(f\"Accuracy Score of Cat Boost Classifier is : {accuracy_lgbm}\")\n",
    "print(f\"Confusion Matrix : \\n{conf_lgbm}\")\n",
    "print(f\"Classification Report : \\n{clf_report_lgbm}\")"
   ]
  },
  {
   "cell_type": "code",
   "execution_count": 122,
   "metadata": {},
   "outputs": [
    {
     "output_type": "execute_result",
     "data": {
      "text/plain": [
       "0.7097670589042506"
      ]
     },
     "metadata": {},
     "execution_count": 122
    }
   ],
   "source": [
    "kappa_lgbm = cohen_kappa_score(y_test, model_lgbm_prediction)\n",
    "kappa_lgbm"
   ]
  },
  {
   "cell_type": "code",
   "execution_count": 123,
   "metadata": {},
   "outputs": [
    {
     "output_type": "stream",
     "name": "stdout",
     "text": [
      "Learning rate set to 0.373979\n",
      "0:\tlearn: 0.4533417\ttotal: 28.5ms\tremaining: 2.82s\n",
      "1:\tlearn: 0.3878438\ttotal: 54.2ms\tremaining: 2.66s\n",
      "2:\tlearn: 0.3396639\ttotal: 80.4ms\tremaining: 2.6s\n",
      "3:\tlearn: 0.3234841\ttotal: 108ms\tremaining: 2.59s\n",
      "4:\tlearn: 0.3055790\ttotal: 137ms\tremaining: 2.59s\n",
      "5:\tlearn: 0.2980475\ttotal: 162ms\tremaining: 2.54s\n",
      "6:\tlearn: 0.2913047\ttotal: 189ms\tremaining: 2.51s\n",
      "7:\tlearn: 0.2815501\ttotal: 220ms\tremaining: 2.53s\n",
      "8:\tlearn: 0.2751620\ttotal: 248ms\tremaining: 2.51s\n",
      "9:\tlearn: 0.2712751\ttotal: 270ms\tremaining: 2.43s\n",
      "10:\tlearn: 0.2677805\ttotal: 294ms\tremaining: 2.38s\n",
      "11:\tlearn: 0.2629527\ttotal: 318ms\tremaining: 2.33s\n",
      "12:\tlearn: 0.2602385\ttotal: 346ms\tremaining: 2.31s\n",
      "13:\tlearn: 0.2578381\ttotal: 373ms\tremaining: 2.29s\n",
      "14:\tlearn: 0.2563383\ttotal: 417ms\tremaining: 2.37s\n",
      "15:\tlearn: 0.2557709\ttotal: 444ms\tremaining: 2.33s\n",
      "16:\tlearn: 0.2540410\ttotal: 470ms\tremaining: 2.3s\n",
      "17:\tlearn: 0.2522764\ttotal: 508ms\tremaining: 2.31s\n",
      "18:\tlearn: 0.2505444\ttotal: 542ms\tremaining: 2.31s\n",
      "19:\tlearn: 0.2493745\ttotal: 577ms\tremaining: 2.31s\n",
      "20:\tlearn: 0.2481149\ttotal: 616ms\tremaining: 2.31s\n",
      "21:\tlearn: 0.2469651\ttotal: 643ms\tremaining: 2.28s\n",
      "22:\tlearn: 0.2462014\ttotal: 668ms\tremaining: 2.24s\n",
      "23:\tlearn: 0.2439961\ttotal: 708ms\tremaining: 2.24s\n",
      "24:\tlearn: 0.2432284\ttotal: 741ms\tremaining: 2.22s\n",
      "25:\tlearn: 0.2416619\ttotal: 777ms\tremaining: 2.21s\n",
      "26:\tlearn: 0.2402251\ttotal: 818ms\tremaining: 2.21s\n",
      "27:\tlearn: 0.2378132\ttotal: 849ms\tremaining: 2.18s\n",
      "28:\tlearn: 0.2366449\ttotal: 876ms\tremaining: 2.14s\n",
      "29:\tlearn: 0.2357659\ttotal: 910ms\tremaining: 2.12s\n",
      "30:\tlearn: 0.2346962\ttotal: 945ms\tremaining: 2.1s\n",
      "31:\tlearn: 0.2333346\ttotal: 985ms\tremaining: 2.09s\n",
      "32:\tlearn: 0.2329502\ttotal: 1.01s\tremaining: 2.06s\n",
      "33:\tlearn: 0.2315774\ttotal: 1.04s\tremaining: 2.02s\n",
      "34:\tlearn: 0.2307912\ttotal: 1.06s\tremaining: 1.98s\n",
      "35:\tlearn: 0.2290388\ttotal: 1.1s\tremaining: 1.95s\n",
      "36:\tlearn: 0.2274239\ttotal: 1.14s\tremaining: 1.94s\n",
      "37:\tlearn: 0.2262799\ttotal: 1.19s\tremaining: 1.94s\n",
      "38:\tlearn: 0.2256503\ttotal: 1.27s\tremaining: 1.98s\n",
      "39:\tlearn: 0.2253323\ttotal: 1.3s\tremaining: 1.95s\n",
      "40:\tlearn: 0.2246007\ttotal: 1.34s\tremaining: 1.93s\n",
      "41:\tlearn: 0.2238590\ttotal: 1.38s\tremaining: 1.91s\n",
      "42:\tlearn: 0.2235859\ttotal: 1.43s\tremaining: 1.89s\n",
      "43:\tlearn: 0.2226471\ttotal: 1.46s\tremaining: 1.86s\n",
      "44:\tlearn: 0.2217140\ttotal: 1.5s\tremaining: 1.83s\n",
      "45:\tlearn: 0.2209542\ttotal: 1.54s\tremaining: 1.81s\n",
      "46:\tlearn: 0.2203770\ttotal: 1.58s\tremaining: 1.78s\n",
      "47:\tlearn: 0.2196185\ttotal: 1.62s\tremaining: 1.75s\n",
      "48:\tlearn: 0.2189576\ttotal: 1.68s\tremaining: 1.75s\n",
      "49:\tlearn: 0.2181208\ttotal: 1.74s\tremaining: 1.74s\n",
      "50:\tlearn: 0.2172236\ttotal: 1.78s\tremaining: 1.71s\n",
      "51:\tlearn: 0.2166440\ttotal: 1.82s\tremaining: 1.68s\n",
      "52:\tlearn: 0.2157436\ttotal: 1.85s\tremaining: 1.64s\n",
      "53:\tlearn: 0.2149155\ttotal: 1.9s\tremaining: 1.62s\n",
      "54:\tlearn: 0.2142354\ttotal: 1.93s\tremaining: 1.58s\n",
      "55:\tlearn: 0.2132081\ttotal: 1.96s\tremaining: 1.54s\n",
      "56:\tlearn: 0.2122525\ttotal: 1.99s\tremaining: 1.5s\n",
      "57:\tlearn: 0.2112917\ttotal: 2.02s\tremaining: 1.46s\n",
      "58:\tlearn: 0.2106026\ttotal: 2.04s\tremaining: 1.42s\n",
      "59:\tlearn: 0.2105893\ttotal: 2.07s\tremaining: 1.38s\n",
      "60:\tlearn: 0.2098863\ttotal: 2.1s\tremaining: 1.34s\n",
      "61:\tlearn: 0.2091583\ttotal: 2.12s\tremaining: 1.3s\n",
      "62:\tlearn: 0.2083853\ttotal: 2.15s\tremaining: 1.26s\n",
      "63:\tlearn: 0.2080250\ttotal: 2.2s\tremaining: 1.24s\n",
      "64:\tlearn: 0.2074453\ttotal: 2.24s\tremaining: 1.21s\n",
      "65:\tlearn: 0.2067493\ttotal: 2.27s\tremaining: 1.17s\n",
      "66:\tlearn: 0.2060058\ttotal: 2.31s\tremaining: 1.14s\n",
      "67:\tlearn: 0.2056184\ttotal: 2.35s\tremaining: 1.1s\n",
      "68:\tlearn: 0.2048651\ttotal: 2.38s\tremaining: 1.07s\n",
      "69:\tlearn: 0.2048552\ttotal: 2.41s\tremaining: 1.03s\n",
      "70:\tlearn: 0.2041584\ttotal: 2.45s\tremaining: 1s\n",
      "71:\tlearn: 0.2031410\ttotal: 2.49s\tremaining: 968ms\n",
      "72:\tlearn: 0.2025404\ttotal: 2.52s\tremaining: 932ms\n",
      "73:\tlearn: 0.2017178\ttotal: 2.56s\tremaining: 898ms\n",
      "74:\tlearn: 0.2011802\ttotal: 2.6s\tremaining: 865ms\n",
      "75:\tlearn: 0.1999933\ttotal: 2.63s\tremaining: 829ms\n",
      "76:\tlearn: 0.1992830\ttotal: 2.66s\tremaining: 796ms\n",
      "77:\tlearn: 0.1986838\ttotal: 2.69s\tremaining: 760ms\n",
      "78:\tlearn: 0.1980404\ttotal: 2.73s\tremaining: 727ms\n",
      "79:\tlearn: 0.1973343\ttotal: 2.77s\tremaining: 693ms\n",
      "80:\tlearn: 0.1967004\ttotal: 2.81s\tremaining: 659ms\n",
      "81:\tlearn: 0.1963466\ttotal: 2.83s\tremaining: 622ms\n",
      "82:\tlearn: 0.1957197\ttotal: 2.86s\tremaining: 586ms\n",
      "83:\tlearn: 0.1950854\ttotal: 2.89s\tremaining: 550ms\n",
      "84:\tlearn: 0.1942247\ttotal: 2.92s\tremaining: 515ms\n",
      "85:\tlearn: 0.1935950\ttotal: 2.94s\tremaining: 479ms\n",
      "86:\tlearn: 0.1928319\ttotal: 2.97s\tremaining: 443ms\n",
      "87:\tlearn: 0.1921349\ttotal: 3s\tremaining: 409ms\n",
      "88:\tlearn: 0.1915126\ttotal: 3.02s\tremaining: 374ms\n",
      "89:\tlearn: 0.1910794\ttotal: 3.05s\tremaining: 339ms\n",
      "90:\tlearn: 0.1904801\ttotal: 3.08s\tremaining: 304ms\n",
      "91:\tlearn: 0.1900370\ttotal: 3.11s\tremaining: 270ms\n",
      "92:\tlearn: 0.1895826\ttotal: 3.13s\tremaining: 236ms\n",
      "93:\tlearn: 0.1889522\ttotal: 3.16s\tremaining: 202ms\n",
      "94:\tlearn: 0.1885383\ttotal: 3.19s\tremaining: 168ms\n",
      "95:\tlearn: 0.1879679\ttotal: 3.22s\tremaining: 134ms\n",
      "96:\tlearn: 0.1876323\ttotal: 3.25s\tremaining: 100ms\n",
      "97:\tlearn: 0.1872257\ttotal: 3.28s\tremaining: 67ms\n",
      "98:\tlearn: 0.1866451\ttotal: 3.31s\tremaining: 33.4ms\n",
      "99:\tlearn: 0.1862360\ttotal: 3.34s\tremaining: 0us\n",
      "[22:45:50] WARNING: C:/Users/Administrator/workspace/xgboost-win64_release_1.4.0/src/learner.cc:1095: Starting in XGBoost 1.3.0, the default evaluation metric used with the objective 'binary:logistic' was changed from 'error' to 'logloss'. Explicitly set eval_metric if you'd like to restore the old behavior.\n",
      "C:\\ProgramData\\Anaconda3\\lib\\site-packages\\xgboost\\sklearn.py:1146: UserWarning: The use of label encoder in XGBClassifier is deprecated and will be removed in a future release. To remove this warning, do the following: 1) Pass option use_label_encoder=False when constructing XGBClassifier object; and 2) Encode your labels (y) as integers starting with 0, i.e. 0, 1, 2, ..., [num_class - 1].\n",
      "  warnings.warn(label_encoder_deprecation_msg, UserWarning)\n",
      "Accuracy Score of Voting Classifier is : 0.9053682896379526\n",
      "Confusion Matrix : \n",
      "[[5536  249]\n",
      " [ 509 1716]]\n",
      "Classification Report : \n",
      "              precision    recall  f1-score   support\n",
      "\n",
      "           0       0.92      0.96      0.94      5785\n",
      "           1       0.87      0.77      0.82      2225\n",
      "\n",
      "    accuracy                           0.91      8010\n",
      "   macro avg       0.89      0.86      0.88      8010\n",
      "weighted avg       0.90      0.91      0.90      8010\n",
      "\n"
     ]
    }
   ],
   "source": [
    "# Voting Classifier\n",
    "classifiers = [('Gradient Boosting Classifier', model_gb), ('Cat Boost Classifier', model_cat), ('XGboost', model_xgb),  \n",
    "               ('Decision Tree', model_dt), ('Extra Tree', model_etc), ('Light Gradient', model_lgbm), ('Random Forest', model_rf), \n",
    "               ('Ada Boost', model_ada), ('Logistic', model_lr), ('Knn', model_knn)]\n",
    "model_vc = VotingClassifier(estimators = classifiers).fit(X_train, y_train)\n",
    "model_vc_prediction = model_vc.predict(X_test)\n",
    "\n",
    "accuracy_vc = accuracy_score(y_test, model_vc_prediction)\n",
    "conf_vc = confusion_matrix(y_test, model_vc_prediction)\n",
    "clf_report_vc = classification_report(y_test, model_vc_prediction)\n",
    "\n",
    "print(f\"Accuracy Score of Voting Classifier is : {accuracy_vc}\")\n",
    "print(f\"Confusion Matrix : \\n{conf_vc}\")\n",
    "print(f\"Classification Report : \\n{clf_report_vc}\")"
   ]
  },
  {
   "cell_type": "code",
   "execution_count": 124,
   "metadata": {},
   "outputs": [
    {
     "output_type": "execute_result",
     "data": {
      "text/plain": [
       "0.7553523399677247"
      ]
     },
     "metadata": {},
     "execution_count": 124
    }
   ],
   "source": [
    "kappa_vc = cohen_kappa_score(y_test, model_vc_prediction)\n",
    "kappa_vc"
   ]
  },
  {
   "cell_type": "code",
   "execution_count": 125,
   "metadata": {},
   "outputs": [
    {
     "output_type": "execute_result",
     "data": {
      "text/plain": [
       "                           Model     Score     Kappa\n",
       "3       Random Forest Classifier  0.917853  0.790572\n",
       "8         Extra Trees Classifier  0.913858  0.778000\n",
       "6                        XgBoost  0.907116  0.766503\n",
       "7                      Cat Boost  0.904120  0.758836\n",
       "10             Voting Classifier  0.905368  0.755352\n",
       "9                           LGBM  0.882647  0.709767\n",
       "5   Gradient Boosting Classifier  0.885019  0.703806\n",
       "2       Decision Tree Classifier  0.875655  0.690779\n",
       "4           Ada Boost Classifier  0.876654  0.683029\n",
       "1                            KNN  0.850187  0.622866\n",
       "0            Logistic Regression  0.823596  0.524509"
      ],
      "text/html": "<div>\n<style scoped>\n    .dataframe tbody tr th:only-of-type {\n        vertical-align: middle;\n    }\n\n    .dataframe tbody tr th {\n        vertical-align: top;\n    }\n\n    .dataframe thead th {\n        text-align: right;\n    }\n</style>\n<table border=\"1\" class=\"dataframe\">\n  <thead>\n    <tr style=\"text-align: right;\">\n      <th></th>\n      <th>Model</th>\n      <th>Score</th>\n      <th>Kappa</th>\n    </tr>\n  </thead>\n  <tbody>\n    <tr>\n      <th>3</th>\n      <td>Random Forest Classifier</td>\n      <td>0.917853</td>\n      <td>0.790572</td>\n    </tr>\n    <tr>\n      <th>8</th>\n      <td>Extra Trees Classifier</td>\n      <td>0.913858</td>\n      <td>0.778000</td>\n    </tr>\n    <tr>\n      <th>6</th>\n      <td>XgBoost</td>\n      <td>0.907116</td>\n      <td>0.766503</td>\n    </tr>\n    <tr>\n      <th>7</th>\n      <td>Cat Boost</td>\n      <td>0.904120</td>\n      <td>0.758836</td>\n    </tr>\n    <tr>\n      <th>10</th>\n      <td>Voting Classifier</td>\n      <td>0.905368</td>\n      <td>0.755352</td>\n    </tr>\n    <tr>\n      <th>9</th>\n      <td>LGBM</td>\n      <td>0.882647</td>\n      <td>0.709767</td>\n    </tr>\n    <tr>\n      <th>5</th>\n      <td>Gradient Boosting Classifier</td>\n      <td>0.885019</td>\n      <td>0.703806</td>\n    </tr>\n    <tr>\n      <th>2</th>\n      <td>Decision Tree Classifier</td>\n      <td>0.875655</td>\n      <td>0.690779</td>\n    </tr>\n    <tr>\n      <th>4</th>\n      <td>Ada Boost Classifier</td>\n      <td>0.876654</td>\n      <td>0.683029</td>\n    </tr>\n    <tr>\n      <th>1</th>\n      <td>KNN</td>\n      <td>0.850187</td>\n      <td>0.622866</td>\n    </tr>\n    <tr>\n      <th>0</th>\n      <td>Logistic Regression</td>\n      <td>0.823596</td>\n      <td>0.524509</td>\n    </tr>\n  </tbody>\n</table>\n</div>"
     },
     "metadata": {},
     "execution_count": 125
    }
   ],
   "source": [
    "# Models Comparison\n",
    "models_city_hotel = pd.DataFrame({\n",
    "    'Model' : ['Logistic Regression', 'KNN', 'Decision Tree Classifier', 'Random Forest Classifier','Ada Boost Classifier',\n",
    "             'Gradient Boosting Classifier', 'XgBoost', 'Cat Boost', 'Extra Trees Classifier', 'LGBM', 'Voting Classifier'],\n",
    "    'Score' : [accuracy_lr, accuracy_knn, accuracy_dt, version_rf, accuracy_ada, accuracy_gb, accuracy_xgb, accuracy_cat, # KORRIGIEREN\n",
    "              accuracy_etc, accuracy_lgbm, accuracy_vc],\n",
    "    'Kappa' : [kappa_lr, kappa_knn, kappa_dt, kappa_rf, kappa_ada, kappa_gb, kappa_xgb, kappa_cat, kappa_etc, kappa_lgbm, \n",
    "              kappa_vc]\n",
    "})\n",
    "\n",
    "\n",
    "models_city_hotel.sort_values(by = 'Kappa', ascending = False)"
   ]
  },
  {
   "cell_type": "code",
   "execution_count": 126,
   "metadata": {},
   "outputs": [
    {
     "output_type": "execute_result",
     "data": {
      "text/plain": [
       "                           Model     Score     Kappa\n",
       "3       Random Forest Classifier  0.917853  0.790572\n",
       "8         Extra Trees Classifier  0.913858  0.778000\n",
       "6                        XgBoost  0.907116  0.766503\n",
       "7                      Cat Boost  0.904120  0.758836\n",
       "10             Voting Classifier  0.905368  0.755352\n",
       "9                           LGBM  0.882647  0.709767\n",
       "5   Gradient Boosting Classifier  0.885019  0.703806\n",
       "2       Decision Tree Classifier  0.875655  0.690779\n",
       "4           Ada Boost Classifier  0.876654  0.683029\n",
       "1                            KNN  0.850187  0.622866\n",
       "0            Logistic Regression  0.823596  0.524509"
      ],
      "text/html": "<div>\n<style scoped>\n    .dataframe tbody tr th:only-of-type {\n        vertical-align: middle;\n    }\n\n    .dataframe tbody tr th {\n        vertical-align: top;\n    }\n\n    .dataframe thead th {\n        text-align: right;\n    }\n</style>\n<table border=\"1\" class=\"dataframe\">\n  <thead>\n    <tr style=\"text-align: right;\">\n      <th></th>\n      <th>Model</th>\n      <th>Score</th>\n      <th>Kappa</th>\n    </tr>\n  </thead>\n  <tbody>\n    <tr>\n      <th>3</th>\n      <td>Random Forest Classifier</td>\n      <td>0.917853</td>\n      <td>0.790572</td>\n    </tr>\n    <tr>\n      <th>8</th>\n      <td>Extra Trees Classifier</td>\n      <td>0.913858</td>\n      <td>0.778000</td>\n    </tr>\n    <tr>\n      <th>6</th>\n      <td>XgBoost</td>\n      <td>0.907116</td>\n      <td>0.766503</td>\n    </tr>\n    <tr>\n      <th>7</th>\n      <td>Cat Boost</td>\n      <td>0.904120</td>\n      <td>0.758836</td>\n    </tr>\n    <tr>\n      <th>10</th>\n      <td>Voting Classifier</td>\n      <td>0.905368</td>\n      <td>0.755352</td>\n    </tr>\n    <tr>\n      <th>9</th>\n      <td>LGBM</td>\n      <td>0.882647</td>\n      <td>0.709767</td>\n    </tr>\n    <tr>\n      <th>5</th>\n      <td>Gradient Boosting Classifier</td>\n      <td>0.885019</td>\n      <td>0.703806</td>\n    </tr>\n    <tr>\n      <th>2</th>\n      <td>Decision Tree Classifier</td>\n      <td>0.875655</td>\n      <td>0.690779</td>\n    </tr>\n    <tr>\n      <th>4</th>\n      <td>Ada Boost Classifier</td>\n      <td>0.876654</td>\n      <td>0.683029</td>\n    </tr>\n    <tr>\n      <th>1</th>\n      <td>KNN</td>\n      <td>0.850187</td>\n      <td>0.622866</td>\n    </tr>\n    <tr>\n      <th>0</th>\n      <td>Logistic Regression</td>\n      <td>0.823596</td>\n      <td>0.524509</td>\n    </tr>\n  </tbody>\n</table>\n</div>"
     },
     "metadata": {},
     "execution_count": 126
    }
   ],
   "source": [
    "# Models Comparison\n",
    "models_resort_hotel = pd.DataFrame({\n",
    "    'Model' : ['Logistic Regression', 'KNN', 'Decision Tree Classifier', 'Random Forest Classifier','Ada Boost Classifier',\n",
    "             'Gradient Boosting Classifier', 'XgBoost', 'Cat Boost', 'Extra Trees Classifier', 'LGBM', 'Voting Classifier'],\n",
    "    'Score' : [accuracy_lr, accuracy_knn, accuracy_dt, version_rf, accuracy_ada, accuracy_gb, accuracy_xgb, accuracy_cat, # KORRIGIEREN\n",
    "              accuracy_etc, accuracy_lgbm, accuracy_vc],\n",
    "    'Kappa' : [kappa_lr, kappa_knn, kappa_dt, kappa_rf, kappa_ada, kappa_gb, kappa_xgb, kappa_cat, kappa_etc, kappa_lgbm, \n",
    "              kappa_vc]\n",
    "})\n",
    "\n",
    "\n",
    "models_resort_hotel.sort_values(by = 'Kappa', ascending = False)"
   ]
  }
 ]
}